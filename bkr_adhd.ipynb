{
 "cells": [
  {
   "cell_type": "markdown",
   "metadata": {},
   "source": [
    "# BioKnowledge reviewer implementation\n",
    "\n",
    "The following code uses the bioknowledge reviewer framework to retrieve all necessary data to create the knowledge graphs"
   ]
  },
  {
   "cell_type": "code",
   "execution_count": 2,
   "metadata": {},
   "outputs": [
    {
     "name": "stderr",
     "output_type": "stream",
     "text": [
      "C:\\Users\\mirei\\Anaconda3\\lib\\site-packages\\google\\auth\\__init__.py:55: Python37DeprecationWarning: After January 1, 2024, new releases of this library will drop support for Python 3.7. More details about Python 3.7 support can be found at https://cloud.google.com/python/docs/python37-sunset/\n",
      "  warnings.warn(message, Python37DeprecationWarning)\n",
      "C:\\Users\\mirei\\Anaconda3\\lib\\site-packages\\google\\oauth2\\__init__.py:40: Python37DeprecationWarning: After January 1, 2024, new releases of this library will drop support for Python 3.7. More details about Python 3.7 support can be found at https://cloud.google.com/python/docs/python37-sunset/\n",
      "  warnings.warn(message, Python37DeprecationWarning)\n"
     ]
    }
   ],
   "source": [
    "import transcriptomics, regulation, curation, monarch, graph, neo4jlib, hypothesis, summary, utils\n",
    "import pandas as pd"
   ]
  },
  {
   "cell_type": "markdown",
   "metadata": {},
   "source": [
    "## Subgraphs"
   ]
  },
  {
   "cell_type": "markdown",
   "metadata": {},
   "source": [
    "### Curation"
   ]
  },
  {
   "cell_type": "code",
   "execution_count": null,
   "metadata": {},
   "outputs": [],
   "source": [
    "curation_edges = pd.read_csv(\"curation/data/HD/HD_curated_edges.csv\")\n",
    "curation_nodes = pd.read_csv(\"curation/data/HD/HD_curated_nodes.csv\")"
   ]
  },
  {
   "cell_type": "markdown",
   "metadata": {},
   "source": [
    "### Transcriptomics"
   ]
  },
  {
   "cell_type": "code",
   "execution_count": null,
   "metadata": {},
   "outputs": [],
   "source": [
    "%%time\n",
    "# transcriptomics:\n",
    "csv_path = './transcriptomics/GSE64810_mlhd_DESeq2_diffexp_DESeq2_outlier_trimmed_adjust.txt'\n",
    "data = transcriptomics.read_data(csv_path, sep='\\t')\n",
    "clean_data, up, down = transcriptomics.clean_data(data)\n",
    "# clean_data()\" is running. Keeping only data with FC > 1.5 and FDR < 5%\n",
    "data_edges = transcriptomics.prepare_data_edges(up, down) ###\n",
    "rna_network = transcriptomics.prepare_rna_edges(data_edges)\n",
    "\n",
    "# build network with graph schema\n",
    "rna_edges = transcriptomics.build_edges(rna_network)\n",
    "rna_nodes, node_dict = transcriptomics.build_nodes(rna_network)\n",
    "rna_edges = transcriptomics.rework_edges(pd.DataFrame(rna_edges), node_dict)"
   ]
  },
  {
   "cell_type": "markdown",
   "metadata": {},
   "source": [
    "### Regulation"
   ]
  },
  {
   "cell_type": "code",
   "execution_count": null,
   "metadata": {},
   "outputs": [],
   "source": [
    "%%time\n",
    "# prepare msigdb data\n",
    "gmt_path = './regulation/msigdb/data/c3.tft.v6.1.entrez.gmt'\n",
    "regulation.prepare_msigdb_data(gmt_path)\n",
    "\n",
    "# prepare individual networks\n",
    "data = regulation.load_tf_gene_edges()\n",
    "dicts = regulation.get_gene_id_normalization_dictionaries(data)\n",
    "data_edges = regulation.prepare_data_edges(data, dicts)\n",
    "\n",
    "# prepare regulation network\n",
    "reg_network = regulation.prepare_regulation_edges(data_edges)\n",
    "\n",
    "# build network with graph schema\n",
    "reg_edges = regulation.build_edges(reg_network)\n",
    "reg_nodes = regulation.build_nodes(reg_network)"
   ]
  },
  {
   "cell_type": "markdown",
   "metadata": {},
   "source": [
    "### Monarch"
   ]
  },
  {
   "cell_type": "code",
   "execution_count": 3,
   "metadata": {},
   "outputs": [
    {
     "name": "stdout",
     "output_type": "stream",
     "text": [
      "\n",
      "The function \"get_neighbours_list()\" is running. Its runtime may take some minutes. If you interrupt the process, you will lose all the nodes retrieved and you should start over the execution of this function.\n"
     ]
    },
    {
     "name": "stderr",
     "output_type": "stream",
     "text": [
      "100%|████████████████████████████████████████████████████████████████████████████████████| 2/2 [00:05<00:00,  2.66s/it]\n"
     ]
    },
    {
     "name": "stdout",
     "output_type": "stream",
     "text": [
      "\n",
      "Finished get_neighbours_list().\n",
      "\n",
      "419\n",
      "\n",
      "The function \"get_orthopheno_list()\" is running. Its runtime may take some hours. If you interrupt the process, you will lose all the nodes retrieved and you should start over the execution of this function.\n"
     ]
    },
    {
     "name": "stderr",
     "output_type": "stream",
     "text": [
      "100%|████████████████████████████████████████████████████████████████████████████████████| 2/2 [00:05<00:00,  2.87s/it]\n",
      "0it [00:00, ?it/s]\n"
     ]
    },
    {
     "name": "stdout",
     "output_type": "stream",
     "text": [
      "\n",
      "Finished get_orthopheno_list().\n",
      "\n",
      "0\n",
      "\n",
      "The function \"get_orthopheno_list()\" is running. Its runtime may take some hours. If you interrupt the process, you will lose all the nodes retrieved and you should start over the execution of this function.\n"
     ]
    },
    {
     "name": "stderr",
     "output_type": "stream",
     "text": [
      "100%|████████████████████████████████████████████████████████████████████████████████| 419/419 [18:40<00:00,  2.68s/it]\n",
      "0it [00:00, ?it/s]\n"
     ]
    },
    {
     "name": "stdout",
     "output_type": "stream",
     "text": [
      "\n",
      "Finished get_orthopheno_list().\n",
      "\n",
      "0\n",
      "genelist:  421\n",
      "\n",
      "The function \"extract_edges()\" is running. Its runtime may take some hours. If you interrupt the process, you will lose all the edges retrieved and you should start over the execution of this function.\n"
     ]
    },
    {
     "name": "stderr",
     "output_type": "stream",
     "text": [
      "100%|████████████████████████████████████████████████████████████████████████████████| 421/421 [19:40<00:00,  2.80s/it]\n"
     ]
    },
    {
     "name": "stdout",
     "output_type": "stream",
     "text": [
      "\n",
      "Finished extract_edges(). To save the retrieved Monarch edges use the function \"print_network()\".\n",
      "\n",
      "network:  10597\n",
      "\n",
      "Saving Monarch edges at: 'C:\\Users\\mirei\\Desktop\\LEIDEN\\th\\kg\\bioknowledge-reviewer-ADHD\\bioknowledge_reviewer/monarch/monarch_connections_v2024-05-27.csv'...\n",
      "\n",
      "\n",
      "The function \"build_edges()\" is running...\n",
      "df (10597, 9)\n",
      "\n",
      "* This is the size of the edges file data structure: (10597, 9)\n",
      "* These are the edges attributes: Index(['subject_id', 'object_id', 'property_id', 'property_label',\n",
      "       'property_description', 'property_uri', 'reference_uri',\n",
      "       'reference_supporting_text', 'reference_date'],\n",
      "      dtype='object')\n",
      "* This is the first record:\n",
      "  subject_id  object_id             property_id          property_label  \\\n",
      "0  HGNC:3272  HGNC:3274  biolink:interacts_with  biolink:interacts_with   \n",
      "\n",
      "  property_description                                       property_uri  \\\n",
      "0                   NA  http://purl.obolibrary.org/obo/biolink_interac...   \n",
      "\n",
      "                                  reference_uri  \\\n",
      "0  https://www.ncbi.nlm.nih.gov/pubmed/35271311   \n",
      "\n",
      "                           reference_supporting_text reference_date  \n",
      "0  This edge comes from the Monarch Knowledge Gra...             NA  \n",
      "\n",
      "The Monarch network edges are built and saved at: C:\\Users\\mirei\\Desktop\\LEIDEN\\th\\kg\\bioknowledge-reviewer-ADHD\\bioknowledge_reviewer/monarch/monarch_edges_v2024-05-27.csv\n",
      "\n",
      "\n",
      "Finished build_edges().\n",
      "\n",
      "\n",
      "The function \"build_nodes()\" is running...\n",
      "Number of concepts: 421\n",
      "Number of nodes CURIEs: 9\n",
      "List of nodes CURIEs: dict_keys(['HGNC', 'HP', 'CL', 'UBERON', 'GO', 'MONDO', 'MGI', 'CHEBI', 'WB'])\n",
      "\n",
      "Adding BioThings annotation: gene name, synonyms, description...\n",
      "symbols: 321\n",
      "\n",
      "* This is the size of the nodes file data structure: (421, 6)\n",
      "* These are the nodes attributes: Index(['id', 'semantic_groups', 'preflabel', 'name', 'synonyms',\n",
      "       'description'],\n",
      "      dtype='object')\n",
      "* This is the first record:\n",
      "          id semantic_groups preflabel  \\\n",
      "0  HGNC:3272            GENE     EIF3I   \n",
      "\n",
      "                                                name  \\\n",
      "0  eukaryotic translation initiation factor 3 sub...   \n",
      "\n",
      "                                         synonyms  \\\n",
      "0  EIF3S2|PRO2242|TRIP-1|TRIP1|eIF3-beta|eIF3-p36   \n",
      "\n",
      "                                         description  \n",
      "0  Contributes to translation initiation factor a...  \n",
      "\n",
      "The Monarch network nodes are built and saved at: C:\\Users\\mirei\\Desktop\\LEIDEN\\th\\kg\\bioknowledge-reviewer-ADHD\\bioknowledge_reviewer/monarch/monarch_nodes_v2024-05-27.csv\n",
      "\n",
      "\n",
      "Finished build_nodes().\n",
      "\n",
      "Wall time: 38min 35s\n"
     ]
    }
   ],
   "source": [
    "%%time\n",
    "# prepare data to graph schema\n",
    "# seed nodes\n",
    "seedList_a = [\n",
    "    'MONDO:0004975', #AD\n",
    "    'HGNC:620', #APP\n",
    "    'HGNC:2095', #Clu\n",
    "    'HGNC:6893', #MAPT\n",
    "    'HGNC:933', #BACE1\n",
    "    'HGNC:613' #APOE\n",
    "]\n",
    "\n",
    "# alz 'HGNC:9508' = #PSEN1, 'HGNC:9509' = #PSEN2\n",
    "\n",
    "seedList = [ \n",
    "    'MONDO:0007739', # HD\n",
    "    'HGNC:4851' # HTT\n",
    "] \n",
    "\n",
    "# get first shell of neighbours\n",
    "neighboursList = monarch.get_neighbours_list(seedList)\n",
    "print(len(neighboursList))\n",
    "\n",
    "# introduce animal model ortho-phenotypes for seed and 1st shell neighbors\n",
    "## For seed nodes:\n",
    "seed_orthophenoList = monarch.get_orthopheno_list(seedList)\n",
    "print(len(seed_orthophenoList))\n",
    "## For 1st shell nodes:\n",
    "neighbours_orthophenoList = monarch.get_orthopheno_list(neighboursList)\n",
    "print(len(neighbours_orthophenoList))\n",
    "\n",
    "# network nodes: seed + 1shell + ortholog-phentoype\n",
    "geneList = sum([seedList,\n",
    "                neighboursList,\n",
    "                seed_orthophenoList,\n",
    "                neighbours_orthophenoList\n",
    "               ], \n",
    "               [])\n",
    "print('genelist: ',len(geneList))\n",
    "\n",
    "# get Monarch network\n",
    "monarch_network = monarch.extract_edges(geneList)\n",
    "print('network: ',len(monarch_network))\n",
    "\n",
    "# save edges\n",
    "monarch.print_network(monarch_network, 'monarch_connections')\n",
    "\n",
    "# build network with graph schema \n",
    "monarch_edges = monarch.build_edges(monarch_network)\n",
    "monarch_nodes = monarch.build_nodes(monarch_network)"
   ]
  },
  {
   "cell_type": "markdown",
   "metadata": {},
   "source": [
    "## Merge"
   ]
  },
  {
   "cell_type": "code",
   "execution_count": 4,
   "metadata": {},
   "outputs": [],
   "source": [
    "#edges\n",
    "curation_edges = \"curation/data/Empty_edges.csv\"\n",
    "monarch_edges = \"monarch/monarch_edges_v2024-05-27.csv\"\n",
    "regulation_edges = \"graph/regulation_edges_v2024-05-25.csv\"\n",
    "transcriptomics_edges = \"curation/data/Empty_edges.csv\"  #############\n",
    "\n",
    "# nodes\n",
    "curation_nodes = \"curation/data/Empty_nodes.csv\"\n",
    "monarch_nodes = \"monarch/monarch_nodes_v2024-05-27.csv\"\n",
    "regulation_nodes = \"graph/regulation_nodes_v2024-05-25.csv\"\n",
    "transcriptomics_nodes = \"curation/data/Empty_nodes.csv\" ###########"
   ]
  },
  {
   "cell_type": "code",
   "execution_count": 5,
   "metadata": {},
   "outputs": [
    {
     "name": "stderr",
     "output_type": "stream",
     "text": [
      "C:\\Users\\mirei\\AppData\\Roaming\\Python\\Python37\\site-packages\\IPython\\core\\interactiveshell.py:3417: DtypeWarning: Columns (8) have mixed types.Specify dtype option on import or set low_memory=False.\n",
      "  exec(code_obj, self.user_global_ns, self.user_ns)\n"
     ]
    },
    {
     "name": "stdout",
     "output_type": "stream",
     "text": [
      "\n",
      "The function \"graph_nodes()\" is running...\n",
      "\n",
      "Preparing networks...\n",
      "Curated:\n",
      "(0, 9)\n",
      "Index(['subject_id', 'property_id', 'object_id', 'reference_uri',\n",
      "       'reference_supporting_text', 'reference_date', 'property_label',\n",
      "       'property_description', 'property_uri'],\n",
      "      dtype='object')\n",
      "Monarch:\n",
      "(10597, 9)\n",
      "Index(['subject_id', 'property_id', 'object_id', 'reference_uri',\n",
      "       'reference_supporting_text', 'reference_date', 'property_label',\n",
      "       'property_description', 'property_uri'],\n",
      "      dtype='object')\n",
      "Transcriptomics:\n",
      "(0, 9)\n",
      "Index(['subject_id', 'property_id', 'object_id', 'reference_uri',\n",
      "       'reference_supporting_text', 'reference_date', 'property_label',\n",
      "       'property_description', 'property_uri'],\n",
      "      dtype='object')\n",
      "Regulatory:\n",
      "(197267, 9)\n",
      "Index(['subject_id', 'object_id', 'property_id', 'property_label',\n",
      "       'property_description', 'property_uri', 'reference_uri',\n",
      "       'reference_supporting_text', 'reference_date'],\n",
      "      dtype='object')\n",
      "\n",
      "Concatenating into a graph...\n",
      "(10597, 9)\n",
      "\n",
      "Drop duplicated rows...\n",
      "(10597, 9)\n",
      "\n",
      "Merging tf-gene network to the graph...\n",
      "(197513, 9)\n",
      "\n",
      "Saving tf merged edges...\n",
      "\n",
      "The regulation graph merged edges are saved at: C:\\Users\\mirei\\Desktop\\LEIDEN\\th\\kg\\bioknowledge-reviewer-ADHD\\bioknowledge_reviewer/graph/regulation_graph_edges_v2024-05-27.csv\n",
      "\n",
      "(208110, 9)\n",
      "\n",
      "Drop duplicated rows...\n",
      "(208110, 9)\n",
      "\n",
      "Generating graph nodes...\n",
      "(17084, 1)\n",
      "\n",
      "Finished graph_nodes().\n",
      "\n"
     ]
    }
   ],
   "source": [
    "# EXTRA CONNECTIVITY FOR TRANSCR+MONARCH\n",
    "\n",
    "# Monarch graph connectivity\n",
    "graph_nodes_list, reg_graph_edges = graph.graph_nodes(\n",
    "    curation=pd.read_csv(curation_edges),\n",
    "    monarch=pd.read_csv(monarch_edges),\n",
    "    transcriptomics=pd.read_csv(transcriptomics_edges),\n",
    "    regulation=pd.read_csv(regulation_edges)\n",
    ")"
   ]
  },
  {
   "cell_type": "code",
   "execution_count": 6,
   "metadata": {},
   "outputs": [
    {
     "name": "stdout",
     "output_type": "stream",
     "text": [
      "\n",
      "The function \"extract_edges()\" is running. Its runtime may take some hours. If you interrupt the process, you will lose all the edges retrieved and you should start over the execution of this function.\n"
     ]
    },
    {
     "name": "stderr",
     "output_type": "stream",
     "text": [
      "  0%|                                                                                        | 0/17084 [00:00<?, ?it/s]"
     ]
    },
    {
     "name": "stdout",
     "output_type": "stream",
     "text": [
      "error: <class 'AttributeError'>\n"
     ]
    },
    {
     "name": "stderr",
     "output_type": "stream",
     "text": [
      "  0%|                                                                             | 18/17084 [00:30<8:13:46,  1.74s/it]"
     ]
    },
    {
     "name": "stdout",
     "output_type": "stream",
     "text": [
      "error: <class 'IndexError'>\n"
     ]
    },
    {
     "name": "stderr",
     "output_type": "stream",
     "text": [
      "  3%|██▌                                                                         | 584/17084 [20:04<9:45:30,  2.13s/it]"
     ]
    },
    {
     "name": "stdout",
     "output_type": "stream",
     "text": [
      "error: <class 'IndexError'>\n"
     ]
    },
    {
     "name": "stderr",
     "output_type": "stream",
     "text": [
      "  4%|██▉                                                                        | 664/17084 [22:52<10:06:33,  2.22s/it]"
     ]
    },
    {
     "name": "stdout",
     "output_type": "stream",
     "text": [
      "error: <class 'IndexError'>\n"
     ]
    },
    {
     "name": "stderr",
     "output_type": "stream",
     "text": [
      "  5%|███▋                                                                        | 831/17084 [28:36<8:31:29,  1.89s/it]"
     ]
    },
    {
     "name": "stdout",
     "output_type": "stream",
     "text": [
      "error: <class 'IndexError'>\n"
     ]
    },
    {
     "name": "stderr",
     "output_type": "stream",
     "text": [
      "  9%|██████▍                                                                    | 1470/17084 [51:08<7:59:54,  1.84s/it]"
     ]
    },
    {
     "name": "stdout",
     "output_type": "stream",
     "text": [
      "error: <class 'IndexError'>\n"
     ]
    },
    {
     "name": "stderr",
     "output_type": "stream",
     "text": [
      "  9%|██████▉                                                                    | 1575/17084 [54:49<7:39:13,  1.78s/it]"
     ]
    },
    {
     "name": "stdout",
     "output_type": "stream",
     "text": [
      "error: <class 'IndexError'>\n"
     ]
    },
    {
     "name": "stderr",
     "output_type": "stream",
     "text": [
      "  9%|███████                                                                    | 1601/17084 [55:41<7:09:22,  1.66s/it]"
     ]
    },
    {
     "name": "stdout",
     "output_type": "stream",
     "text": [
      "error: <class 'IndexError'>\n"
     ]
    },
    {
     "name": "stderr",
     "output_type": "stream",
     "text": [
      " 12%|████████▌                                                                | 1993/17084 [1:09:26<9:19:37,  2.23s/it]"
     ]
    },
    {
     "name": "stdout",
     "output_type": "stream",
     "text": [
      "error: <class 'IndexError'>\n"
     ]
    },
    {
     "name": "stderr",
     "output_type": "stream",
     "text": [
      " 13%|█████████▎                                                               | 2166/17084 [1:15:54<7:17:38,  1.76s/it]"
     ]
    },
    {
     "name": "stdout",
     "output_type": "stream",
     "text": [
      "error: <class 'IndexError'>\n"
     ]
    },
    {
     "name": "stderr",
     "output_type": "stream",
     "text": [
      " 13%|█████████▊                                                               | 2296/17084 [1:20:28<7:02:56,  1.72s/it]"
     ]
    },
    {
     "name": "stdout",
     "output_type": "stream",
     "text": [
      "error: <class 'IndexError'>\n"
     ]
    },
    {
     "name": "stderr",
     "output_type": "stream",
     "text": [
      " 14%|██████████▏                                                              | 2371/17084 [1:23:08<8:18:07,  2.03s/it]"
     ]
    },
    {
     "name": "stdout",
     "output_type": "stream",
     "text": [
      "error: <class 'IndexError'>\n"
     ]
    },
    {
     "name": "stderr",
     "output_type": "stream",
     "text": [
      " 14%|██████████▎                                                              | 2404/17084 [1:24:14<8:13:51,  2.02s/it]"
     ]
    },
    {
     "name": "stdout",
     "output_type": "stream",
     "text": [
      "error: <class 'IndexError'>\n"
     ]
    },
    {
     "name": "stderr",
     "output_type": "stream",
     "text": [
      " 15%|██████████▋                                                              | 2494/17084 [1:27:16<9:16:33,  2.29s/it]"
     ]
    },
    {
     "name": "stdout",
     "output_type": "stream",
     "text": [
      "error: <class 'IndexError'>\n"
     ]
    },
    {
     "name": "stderr",
     "output_type": "stream",
     "text": [
      " 15%|███████████▎                                                             | 2647/17084 [1:33:07<8:04:50,  2.01s/it]"
     ]
    },
    {
     "name": "stdout",
     "output_type": "stream",
     "text": [
      "error: <class 'IndexError'>\n"
     ]
    },
    {
     "name": "stderr",
     "output_type": "stream",
     "text": [
      " 19%|█████████████▌                                                           | 3186/17084 [1:51:36<7:50:16,  2.03s/it]"
     ]
    },
    {
     "name": "stdout",
     "output_type": "stream",
     "text": [
      "error: <class 'IndexError'>\n"
     ]
    },
    {
     "name": "stderr",
     "output_type": "stream",
     "text": [
      " 21%|███████████████▌                                                         | 3653/17084 [2:07:06<6:47:05,  1.82s/it]"
     ]
    },
    {
     "name": "stdout",
     "output_type": "stream",
     "text": [
      "error: <class 'IndexError'>\n"
     ]
    },
    {
     "name": "stderr",
     "output_type": "stream",
     "text": [
      " 24%|█████████████████▊                                                       | 4163/17084 [2:23:48<8:19:24,  2.32s/it]"
     ]
    },
    {
     "name": "stdout",
     "output_type": "stream",
     "text": [
      "error: <class 'IndexError'>\n"
     ]
    },
    {
     "name": "stderr",
     "output_type": "stream",
     "text": [
      " 27%|███████████████████▌                                                     | 4589/17084 [2:37:24<7:14:51,  2.09s/it]"
     ]
    },
    {
     "name": "stdout",
     "output_type": "stream",
     "text": [
      "error: <class 'IndexError'>\n"
     ]
    },
    {
     "name": "stderr",
     "output_type": "stream",
     "text": [
      " 29%|████████████████████▉                                                    | 4905/17084 [2:47:47<5:15:49,  1.56s/it]"
     ]
    },
    {
     "name": "stdout",
     "output_type": "stream",
     "text": [
      "error: <class 'IndexError'>\n"
     ]
    },
    {
     "name": "stderr",
     "output_type": "stream",
     "text": [
      " 30%|██████████████████████                                                   | 5174/17084 [2:56:39<6:47:59,  2.06s/it]"
     ]
    },
    {
     "name": "stdout",
     "output_type": "stream",
     "text": [
      "error: <class 'IndexError'>\n"
     ]
    },
    {
     "name": "stderr",
     "output_type": "stream",
     "text": [
      " 31%|██████████████████████▌                                                  | 5291/17084 [3:00:26<6:20:00,  1.93s/it]"
     ]
    },
    {
     "name": "stdout",
     "output_type": "stream",
     "text": [
      "error: <class 'IndexError'>\n"
     ]
    },
    {
     "name": "stderr",
     "output_type": "stream",
     "text": [
      " 34%|████████████████████████▋                                                | 5776/17084 [3:16:22<6:03:37,  1.93s/it]"
     ]
    },
    {
     "name": "stdout",
     "output_type": "stream",
     "text": [
      "error: <class 'IndexError'>\n"
     ]
    },
    {
     "name": "stderr",
     "output_type": "stream",
     "text": [
      " 34%|█████████████████████████                                                | 5877/17084 [3:19:45<6:53:47,  2.22s/it]"
     ]
    },
    {
     "name": "stdout",
     "output_type": "stream",
     "text": [
      "error: <class 'IndexError'>\n"
     ]
    },
    {
     "name": "stderr",
     "output_type": "stream",
     "text": [
      " 35%|█████████████████████████▎                                               | 5930/17084 [3:21:30<5:31:10,  1.78s/it]"
     ]
    },
    {
     "name": "stdout",
     "output_type": "stream",
     "text": [
      "error: <class 'IndexError'>\n"
     ]
    },
    {
     "name": "stderr",
     "output_type": "stream",
     "text": [
      " 36%|██████████████████████████▎                                              | 6145/17084 [3:28:23<4:38:02,  1.53s/it]"
     ]
    },
    {
     "name": "stdout",
     "output_type": "stream",
     "text": [
      "error: <class 'IndexError'>\n"
     ]
    },
    {
     "name": "stderr",
     "output_type": "stream",
     "text": [
      " 39%|████████████████████████████▎                                            | 6612/17084 [3:43:03<5:45:40,  1.98s/it]"
     ]
    },
    {
     "name": "stdout",
     "output_type": "stream",
     "text": [
      "error: <class 'IndexError'>\n"
     ]
    },
    {
     "name": "stderr",
     "output_type": "stream",
     "text": [
      " 40%|█████████████████████████████▏                                           | 6843/17084 [3:50:48<5:51:14,  2.06s/it]"
     ]
    },
    {
     "name": "stdout",
     "output_type": "stream",
     "text": [
      "error: <class 'IndexError'>\n"
     ]
    },
    {
     "name": "stderr",
     "output_type": "stream",
     "text": [
      " 40%|█████████████████████████████▎                                           | 6855/17084 [3:51:05<4:24:56,  1.55s/it]"
     ]
    },
    {
     "name": "stdout",
     "output_type": "stream",
     "text": [
      "error: <class 'IndexError'>\n"
     ]
    },
    {
     "name": "stderr",
     "output_type": "stream",
     "text": [
      " 44%|███████████████████████████████▉                                         | 7480/17084 [4:11:02<4:36:17,  1.73s/it]"
     ]
    },
    {
     "name": "stdout",
     "output_type": "stream",
     "text": [
      "error: <class 'IndexError'>\n"
     ]
    },
    {
     "name": "stderr",
     "output_type": "stream",
     "text": [
      " 46%|█████████████████████████████████▋                                       | 7871/17084 [4:23:30<5:27:00,  2.13s/it]"
     ]
    },
    {
     "name": "stdout",
     "output_type": "stream",
     "text": [
      "error: <class 'IndexError'>\n"
     ]
    },
    {
     "name": "stderr",
     "output_type": "stream",
     "text": [
      " 46%|█████████████████████████████████▊                                       | 7924/17084 [4:25:12<4:37:10,  1.82s/it]"
     ]
    },
    {
     "name": "stdout",
     "output_type": "stream",
     "text": [
      "error: <class 'IndexError'>\n"
     ]
    },
    {
     "name": "stderr",
     "output_type": "stream",
     "text": [
      " 47%|██████████████████████████████████▍                                      | 8067/17084 [4:29:33<4:19:06,  1.72s/it]"
     ]
    },
    {
     "name": "stdout",
     "output_type": "stream",
     "text": [
      "error: <class 'IndexError'>\n"
     ]
    },
    {
     "name": "stderr",
     "output_type": "stream",
     "text": [
      " 48%|███████████████████████████████████                                      | 8216/17084 [4:34:04<3:25:30,  1.39s/it]"
     ]
    },
    {
     "name": "stdout",
     "output_type": "stream",
     "text": [
      "error: <class 'IndexError'>\n"
     ]
    },
    {
     "name": "stderr",
     "output_type": "stream",
     "text": [
      " 51%|█████████████████████████████████████▏                                   | 8705/17084 [4:49:40<4:18:36,  1.85s/it]"
     ]
    },
    {
     "name": "stdout",
     "output_type": "stream",
     "text": [
      "error: <class 'IndexError'>\n"
     ]
    },
    {
     "name": "stderr",
     "output_type": "stream",
     "text": [
      " 54%|███████████████████████████████████████▏                                 | 9182/17084 [5:04:39<4:35:33,  2.09s/it]"
     ]
    },
    {
     "name": "stdout",
     "output_type": "stream",
     "text": [
      "error: <class 'IndexError'>\n"
     ]
    },
    {
     "name": "stderr",
     "output_type": "stream",
     "text": [
      " 60%|██████████████████████████████████████████▉                             | 10198/17084 [5:36:48<3:39:32,  1.91s/it]"
     ]
    },
    {
     "name": "stdout",
     "output_type": "stream",
     "text": [
      "error: <class 'IndexError'>\n"
     ]
    },
    {
     "name": "stderr",
     "output_type": "stream",
     "text": [
      " 64%|█████████████████████████████████████████████▋                          | 10854/17084 [5:57:26<3:08:05,  1.81s/it]"
     ]
    },
    {
     "name": "stdout",
     "output_type": "stream",
     "text": [
      "error: <class 'IndexError'>\n"
     ]
    },
    {
     "name": "stderr",
     "output_type": "stream",
     "text": [
      " 64%|█████████████████████████████████████████████▊                          | 10863/17084 [5:57:39<2:17:36,  1.33s/it]"
     ]
    },
    {
     "name": "stdout",
     "output_type": "stream",
     "text": [
      "error: <class 'IndexError'>\n"
     ]
    },
    {
     "name": "stderr",
     "output_type": "stream",
     "text": [
      " 66%|████████████████████████████████████████████                       | 11232/17084 [7:53:26<3038:27:48, 1869.18s/it]"
     ]
    },
    {
     "name": "stdout",
     "output_type": "stream",
     "text": [
      "error: <class 'requests.exceptions.ChunkedEncodingError'>\n"
     ]
    },
    {
     "name": "stderr",
     "output_type": "stream",
     "text": [
      " 66%|████████████████████████████████████████████                       | 11233/17084 [7:53:27<2126:58:25, 1308.68s/it]"
     ]
    },
    {
     "name": "stdout",
     "output_type": "stream",
     "text": [
      "error: <class 'requests.exceptions.ConnectionError'>\n"
     ]
    },
    {
     "name": "stderr",
     "output_type": "stream",
     "text": [
      " 66%|████████████████████████████████████████████▋                       | 11234/17084 [7:53:27<1488:59:14, 916.30s/it]"
     ]
    },
    {
     "name": "stdout",
     "output_type": "stream",
     "text": [
      "error: <class 'requests.exceptions.ConnectionError'>\n"
     ]
    },
    {
     "name": "stderr",
     "output_type": "stream",
     "text": [
      " 66%|█████████████████████████████████████████████▍                       | 11236/17084 [7:53:28<729:31:10, 449.09s/it]"
     ]
    },
    {
     "name": "stdout",
     "output_type": "stream",
     "text": [
      "error: <class 'requests.exceptions.ConnectionError'>\n",
      "error: <class 'requests.exceptions.ConnectionError'>\n"
     ]
    },
    {
     "name": "stderr",
     "output_type": "stream",
     "text": [
      " 66%|██████████████████████████████████████████████▋                        | 11247/17084 [7:53:28<98:51:34, 60.97s/it]"
     ]
    },
    {
     "name": "stdout",
     "output_type": "stream",
     "text": [
      "error: <class 'requests.exceptions.ConnectionError'>\n",
      "error: <class 'requests.exceptions.ConnectionError'>\n",
      "error: <class 'requests.exceptions.ConnectionError'>\n",
      "error: <class 'requests.exceptions.ConnectionError'>\n",
      "error: <class 'requests.exceptions.ConnectionError'>\n",
      "error: <class 'requests.exceptions.ConnectionError'>\n",
      "error: <class 'requests.exceptions.ConnectionError'>\n",
      "error: <class 'requests.exceptions.ConnectionError'>\n",
      "error: <class 'requests.exceptions.ConnectionError'>\n",
      "error: <class 'requests.exceptions.ConnectionError'>\n",
      "error: <class 'requests.exceptions.ConnectionError'>\n",
      "error: <class 'requests.exceptions.ConnectionError'>\n",
      "error: <class 'requests.exceptions.ConnectionError'>\n"
     ]
    },
    {
     "name": "stderr",
     "output_type": "stream",
     "text": [
      " 66%|██████████████████████████████████████████████▊                        | 11267/17084 [7:53:28<24:25:27, 15.12s/it]"
     ]
    },
    {
     "name": "stdout",
     "output_type": "stream",
     "text": [
      "error: <class 'requests.exceptions.ConnectionError'>\n",
      "error: <class 'requests.exceptions.ConnectionError'>\n",
      "error: <class 'requests.exceptions.ConnectionError'>\n",
      "error: <class 'requests.exceptions.ConnectionError'>\n",
      "error: <class 'requests.exceptions.ConnectionError'>\n",
      "error: <class 'requests.exceptions.ConnectionError'>\n",
      "error: <class 'requests.exceptions.ConnectionError'>\n",
      "error: <class 'requests.exceptions.ConnectionError'>\n",
      "error: <class 'requests.exceptions.ConnectionError'>\n",
      "error: <class 'requests.exceptions.ConnectionError'>\n",
      "error: <class 'requests.exceptions.ConnectionError'>\n",
      "error: <class 'requests.exceptions.ConnectionError'>\n",
      "error: <class 'requests.exceptions.ConnectionError'>\n",
      "error: <class 'requests.exceptions.ConnectionError'>\n",
      "error: <class 'requests.exceptions.ConnectionError'>\n",
      "error: <class 'requests.exceptions.ConnectionError'>\n",
      "error: <class 'requests.exceptions.ConnectionError'>\n",
      "error: <class 'requests.exceptions.ConnectionError'>\n",
      "error: <class 'requests.exceptions.ConnectionError'>\n",
      "error: <class 'requests.exceptions.ConnectionError'>\n",
      "error: <class 'requests.exceptions.ConnectionError'>\n",
      "error: <class 'requests.exceptions.ConnectionError'>\n",
      "error: <class 'requests.exceptions.ConnectionError'>\n"
     ]
    },
    {
     "name": "stderr",
     "output_type": "stream",
     "text": [
      " 68%|████████████████████████████████████████████████▉                       | 11604/17084 [8:03:37<3:24:46,  2.24s/it]"
     ]
    },
    {
     "name": "stdout",
     "output_type": "stream",
     "text": [
      "error: <class 'IndexError'>\n"
     ]
    },
    {
     "name": "stderr",
     "output_type": "stream",
     "text": [
      " 70%|██████████████████████████████████████████████████                      | 11878/17084 [8:11:55<2:57:01,  2.04s/it]"
     ]
    },
    {
     "name": "stdout",
     "output_type": "stream",
     "text": [
      "error: <class 'IndexError'>\n"
     ]
    },
    {
     "name": "stderr",
     "output_type": "stream",
     "text": [
      " 70%|██████████████████████████████████████████████████▌                     | 11995/17084 [8:15:32<2:07:11,  1.50s/it]"
     ]
    },
    {
     "name": "stdout",
     "output_type": "stream",
     "text": [
      "error: <class 'IndexError'>\n"
     ]
    },
    {
     "name": "stderr",
     "output_type": "stream",
     "text": [
      " 74%|█████████████████████████████████████████████████████▏                  | 12619/17084 [8:34:39<2:23:04,  1.92s/it]"
     ]
    },
    {
     "name": "stdout",
     "output_type": "stream",
     "text": [
      "error: <class 'IndexError'>\n"
     ]
    },
    {
     "name": "stderr",
     "output_type": "stream",
     "text": [
      " 74%|█████████████████████████████████████████████████████▎                  | 12639/17084 [8:35:17<2:40:02,  2.16s/it]"
     ]
    },
    {
     "name": "stdout",
     "output_type": "stream",
     "text": [
      "error: <class 'IndexError'>\n"
     ]
    },
    {
     "name": "stderr",
     "output_type": "stream",
     "text": [
      " 77%|███████████████████████████████████████████████████████                 | 13071/17084 [8:48:47<1:49:57,  1.64s/it]"
     ]
    },
    {
     "name": "stdout",
     "output_type": "stream",
     "text": [
      "error: <class 'IndexError'>\n"
     ]
    },
    {
     "name": "stderr",
     "output_type": "stream",
     "text": [
      " 81%|██████████████████████████████████████████████████████████▌             | 13888/17084 [9:14:36<1:30:15,  1.69s/it]"
     ]
    },
    {
     "name": "stdout",
     "output_type": "stream",
     "text": [
      "error: <class 'IndexError'>\n"
     ]
    },
    {
     "name": "stderr",
     "output_type": "stream",
     "text": [
      " 83%|███████████████████████████████████████████████████████████▊            | 14199/17084 [9:24:23<1:39:53,  2.08s/it]"
     ]
    },
    {
     "name": "stdout",
     "output_type": "stream",
     "text": [
      "error: <class 'IndexError'>\n"
     ]
    },
    {
     "name": "stderr",
     "output_type": "stream",
     "text": [
      " 84%|████████████████████████████████████████████████████████████▌           | 14366/17084 [9:29:29<1:28:55,  1.96s/it]"
     ]
    },
    {
     "name": "stdout",
     "output_type": "stream",
     "text": [
      "error: <class 'IndexError'>\n"
     ]
    },
    {
     "name": "stderr",
     "output_type": "stream",
     "text": [
      " 84%|████████████████████████████████████████████████████████████▌           | 14375/17084 [9:29:45<1:26:20,  1.91s/it]"
     ]
    },
    {
     "name": "stdout",
     "output_type": "stream",
     "text": [
      "error: <class 'IndexError'>\n"
     ]
    },
    {
     "name": "stderr",
     "output_type": "stream",
     "text": [
      " 87%|██████████████████████████████████████████████████████████████▋         | 14873/17084 [9:45:09<1:19:04,  2.15s/it]"
     ]
    },
    {
     "name": "stdout",
     "output_type": "stream",
     "text": [
      "error: <class 'IndexError'>\n"
     ]
    },
    {
     "name": "stderr",
     "output_type": "stream",
     "text": [
      " 88%|█████████████████████████████████████████████████████████████████         | 15034/17084 [9:50:10<53:26,  1.56s/it]"
     ]
    },
    {
     "name": "stdout",
     "output_type": "stream",
     "text": [
      "error: <class 'IndexError'>\n"
     ]
    },
    {
     "name": "stderr",
     "output_type": "stream",
     "text": [
      " 89%|███████████████████████████████████████████████████████████████▋        | 15121/17084 [9:52:53<1:04:31,  1.97s/it]"
     ]
    },
    {
     "name": "stdout",
     "output_type": "stream",
     "text": [
      "error: <class 'IndexError'>\n"
     ]
    },
    {
     "name": "stderr",
     "output_type": "stream",
     "text": [
      " 93%|███████████████████████████████████████████████████████████████████▊     | 15868/17084 [10:14:04<24:45,  1.22s/it]"
     ]
    },
    {
     "name": "stdout",
     "output_type": "stream",
     "text": [
      "error: <class 'IndexError'>\n"
     ]
    },
    {
     "name": "stderr",
     "output_type": "stream",
     "text": [
      " 93%|████████████████████████████████████████████████████████████████████▏    | 15962/17084 [10:16:22<25:11,  1.35s/it]"
     ]
    },
    {
     "name": "stdout",
     "output_type": "stream",
     "text": [
      "error: <class 'IndexError'>\n"
     ]
    },
    {
     "name": "stderr",
     "output_type": "stream",
     "text": [
      " 95%|█████████████████████████████████████████████████████████████████████    | 16172/17084 [10:21:40<24:27,  1.61s/it]"
     ]
    },
    {
     "name": "stdout",
     "output_type": "stream",
     "text": [
      "error: <class 'IndexError'>\n"
     ]
    },
    {
     "name": "stderr",
     "output_type": "stream",
     "text": [
      " 95%|█████████████████████████████████████████████████████████████████████▎   | 16223/17084 [10:22:54<21:06,  1.47s/it]"
     ]
    },
    {
     "name": "stdout",
     "output_type": "stream",
     "text": [
      "error: <class 'IndexError'>\n"
     ]
    },
    {
     "name": "stderr",
     "output_type": "stream",
     "text": [
      "100%|████████████████████████████████████████████████████████████████████████▉| 17075/17084 [10:44:15<00:12,  1.39s/it]"
     ]
    },
    {
     "name": "stdout",
     "output_type": "stream",
     "text": [
      "error: <class 'IndexError'>\n"
     ]
    },
    {
     "name": "stderr",
     "output_type": "stream",
     "text": [
      "100%|█████████████████████████████████████████████████████████████████████████| 17084/17084 [10:44:25<00:00,  2.26s/it]"
     ]
    },
    {
     "name": "stdout",
     "output_type": "stream",
     "text": [
      "\n",
      "Finished extract_edges(). To save the retrieved Monarch edges use the function \"print_network()\".\n",
      "\n",
      "network:  1159364\n"
     ]
    },
    {
     "name": "stderr",
     "output_type": "stream",
     "text": [
      "\n"
     ]
    }
   ],
   "source": [
    "monarch_network_graph = monarch.extract_edges(graph_nodes_list)\n",
    "print('network: ',len(monarch_network_graph))"
   ]
  },
  {
   "cell_type": "code",
   "execution_count": 7,
   "metadata": {},
   "outputs": [
    {
     "name": "stdout",
     "output_type": "stream",
     "text": [
      "\n",
      "Saving Monarch edges at: 'C:\\Users\\mirei\\Desktop\\LEIDEN\\th\\kg\\bioknowledge-reviewer-ADHD\\bioknowledge_reviewer/monarch/monarch_connections_graph_v2024-05-27.csv'...\n",
      "\n",
      "\n",
      "The function \"build_edges()\" is running...\n",
      "df (1159364, 9)\n",
      "\n",
      "* This is the size of the edges file data structure: (1159364, 9)\n",
      "* These are the edges attributes: Index(['subject_id', 'object_id', 'property_id', 'property_label',\n",
      "       'property_description', 'property_uri', 'reference_uri',\n",
      "       'reference_supporting_text', 'reference_date'],\n",
      "      dtype='object')\n",
      "* This is the first record:\n",
      "   subject_id   object_id      property_id   property_label  \\\n",
      "0  HGNC:27414  GO:0005515  biolink:enables  biolink:enables   \n",
      "\n",
      "  property_description                                    property_uri  \\\n",
      "0                   NA  http://purl.obolibrary.org/obo/biolink_enables   \n",
      "\n",
      "  reference_uri                          reference_supporting_text  \\\n",
      "0            NA  This edge comes from the Monarch Knowledge Gra...   \n",
      "\n",
      "  reference_date  \n",
      "0             NA  \n",
      "\n",
      "The Monarch network edges are built and saved at: C:\\Users\\mirei\\Desktop\\LEIDEN\\th\\kg\\bioknowledge-reviewer-ADHD\\bioknowledge_reviewer/monarch/monarch_edges_v2024-05-27.csv\n",
      "\n",
      "\n",
      "Finished build_edges().\n",
      "\n",
      "\n",
      "The function \"build_nodes()\" is running...\n",
      "Number of concepts: 16144\n",
      "Number of nodes CURIEs: 9\n",
      "List of nodes CURIEs: dict_keys(['HGNC', 'GO', 'UBERON', 'HP', 'CL', 'MGI', 'MONDO', 'CHEBI', 'WB'])\n",
      "\n",
      "Adding BioThings annotation: gene name, synonyms, description...\n",
      "symbols: 16044\n",
      "\n",
      "* This is the size of the nodes file data structure: (16144, 6)\n",
      "* These are the nodes attributes: Index(['id', 'semantic_groups', 'preflabel', 'name', 'synonyms',\n",
      "       'description'],\n",
      "      dtype='object')\n",
      "* This is the first record:\n",
      "           id semantic_groups preflabel                              name  \\\n",
      "0  HGNC:27414            GENE  ARHGAP30  Rho GTPase activating protein 30   \n",
      "\n",
      "  synonyms                                        description  \n",
      "0       NA  Predicted to enable GTPase activator activity....  \n",
      "\n",
      "The Monarch network nodes are built and saved at: C:\\Users\\mirei\\Desktop\\LEIDEN\\th\\kg\\bioknowledge-reviewer-ADHD\\bioknowledge_reviewer/monarch/monarch_nodes_v2024-05-27.csv\n",
      "\n",
      "\n",
      "Finished build_nodes().\n",
      "\n"
     ]
    }
   ],
   "source": [
    "## save Monarch network\n",
    "monarch.print_network(monarch_network_graph, 'monarch_connections_graph')\n",
    "\n",
    "## build Monarch network with graph schema\n",
    "monarch_graph_edges = monarch.build_edges(monarch_network_graph)\n",
    "monarch_graph_nodes = monarch.build_nodes(monarch_network_graph)"
   ]
  },
  {
   "cell_type": "code",
   "execution_count": 9,
   "metadata": {},
   "outputs": [
    {
     "name": "stdout",
     "output_type": "stream",
     "text": [
      "\n",
      "The function \"build_edges()\" is running...\n",
      "\n",
      "Preparing networks...\n",
      "Curated:\n",
      "(0, 9)\n",
      "Index(['subject_id', 'property_id', 'object_id', 'reference_uri',\n",
      "       'reference_supporting_text', 'reference_date', 'property_label',\n",
      "       'property_description', 'property_uri'],\n",
      "      dtype='object')\n",
      "Monarch:\n",
      "(1159364, 9)\n",
      "Index(['subject_id', 'property_id', 'object_id', 'reference_uri',\n",
      "       'reference_supporting_text', 'reference_date', 'property_label',\n",
      "       'property_description', 'property_uri'],\n",
      "      dtype='object')\n",
      "Transcriptomics:\n",
      "(0, 9)\n",
      "Index(['subject_id', 'property_id', 'object_id', 'reference_uri',\n",
      "       'reference_supporting_text', 'reference_date', 'property_label',\n",
      "       'property_description', 'property_uri'],\n",
      "      dtype='object')\n",
      "Regulatory:\n",
      "(197267, 9)\n",
      "Index(['subject_id', 'object_id', 'property_id', 'property_label',\n",
      "       'property_description', 'property_uri', 'reference_uri',\n",
      "       'reference_supporting_text', 'reference_date'],\n",
      "      dtype='object')\n",
      "\n",
      "Concatenating into a graph...\n",
      "(1356631, 9)\n",
      "\n",
      "Drop duplicated rows...\n",
      "(1356448, 9)\n",
      "\n",
      "Saving final graph...\n",
      "(1356448, 9)\n",
      "Index(['subject_id', 'property_id', 'object_id', 'reference_uri',\n",
      "       'reference_supporting_text', 'reference_date', 'property_label',\n",
      "       'property_description', 'property_uri'],\n",
      "      dtype='object')\n",
      "\n",
      "* This is the size of the edges file data structure: (1356448, 9)\n",
      "* These are the edges attributes: Index(['subject_id', 'property_id', 'object_id', 'reference_uri',\n",
      "       'reference_supporting_text', 'reference_date', 'property_label',\n",
      "       'property_description', 'property_uri'],\n",
      "      dtype='object')\n",
      "* This is the first record:\n",
      "   subject_id      property_id   object_id reference_uri  \\\n",
      "0  HGNC:27414  biolink:enables  GO:0005515           NaN   \n",
      "\n",
      "                           reference_supporting_text reference_date  \\\n",
      "0  This edge comes from the Monarch Knowledge Gra...            NaN   \n",
      "\n",
      "    property_label property_description  \\\n",
      "0  biolink:enables                  NaN   \n",
      "\n",
      "                                     property_uri  \n",
      "0  http://purl.obolibrary.org/obo/biolink_enables  \n",
      "\n",
      "The NGLY1 Deficiency knowledge graph edges are built and saved at: C:\\Users\\mirei\\Desktop\\LEIDEN\\th\\kg\\bioknowledge-reviewer-ADHD\\bioknowledge_reviewer/graph/graph_edges_v2024-05-27.csv\n",
      "\n",
      "\n",
      "Finished build_edges().\n",
      "\n",
      "\n",
      "The function \"build_nodes()\" is running...\n",
      "\n",
      "Preparing networks...\n",
      "Curated:\n",
      "(0, 5)\n",
      "Index(['id', 'semantic_groups', 'preflabel', 'synonyms', 'description'], dtype='object')\n",
      "Monarch:\n",
      "(16144, 6)\n",
      "Index(['id', 'semantic_groups', 'preflabel', 'synonyms', 'description',\n",
      "       'name'],\n",
      "      dtype='object')\n",
      "Transcriptomics:\n",
      "(0, 5)\n",
      "Index(['id', 'semantic_groups', 'preflabel', 'synonyms', 'description'], dtype='object')\n",
      "Regulatory:\n",
      "(16961, 6)\n",
      "Index(['id', 'semantic_groups', 'preflabel', 'name', 'synonyms',\n",
      "       'description'],\n",
      "      dtype='object')\n",
      "\n",
      "Annotating nodes in the graph...\n",
      "graph from e (17083, 1)\n",
      "annotation check\n",
      "curated (0, 5)\n",
      "monarch (16144, 6)\n",
      "rna (17083, 5)\n",
      "regulation (16961, 6)\n",
      "\n",
      "Concatenating all nodes...\n",
      "graph ann (50188, 6)\n",
      "diff set()\n",
      "\n",
      "Drop duplicated rows...\n",
      "(34266, 6)\n",
      "\n",
      "Drop duplicated nodes...\n",
      "(17083, 6)\n",
      "\n",
      "All graph nodes are annotated.\n",
      "Regulation nodes not in the graph: 0\n",
      "\n",
      "Saving final graph...\n",
      "(17083, 6)\n",
      "Index(['id', 'semantic_groups', 'preflabel', 'synonyms', 'name',\n",
      "       'description'],\n",
      "      dtype='object')\n",
      "\n",
      "* This is the size of the edges file data structure: (17083, 6)\n",
      "* These are the edges attributes: Index(['id', 'semantic_groups', 'preflabel', 'synonyms', 'name',\n",
      "       'description'],\n",
      "      dtype='object')\n",
      "* This is the first record:\n",
      "           id semantic_groups preflabel synonyms  \\\n",
      "0  HGNC:27414            GENE  ARHGAP30      NaN   \n",
      "\n",
      "                               name  \\\n",
      "0  Rho GTPase activating protein 30   \n",
      "\n",
      "                                         description  \n",
      "0  Predicted to enable GTPase activator activity....  \n",
      "\n",
      "The NGLY1 Deficiency knowledge graph nodes are built and saved at: C:\\Users\\mirei\\Desktop\\LEIDEN\\th\\kg\\bioknowledge-reviewer-ADHD\\bioknowledge_reviewer/graph/graph_nodes_v2024-05-27.csv\n",
      "\n",
      "\n",
      "Finished build_nodes().\n",
      "\n"
     ]
    }
   ],
   "source": [
    "# build review graph\n",
    "monarch_graph_edges = \"monarch/monarch_edges_v2024-05-27.csv\"\n",
    "monarch_graph_nodes = \"monarch/monarch_nodes_v2024-05-27.csv\"\n",
    "\n",
    "edges = graph.build_edges(\n",
    "    curation=curation_edges,\n",
    "    monarch=monarch_graph_edges, \n",
    "    regulation=regulation_edges,\n",
    "    transcriptomics=transcriptomics_edges, \n",
    "    input_from_file=True\n",
    ")\n",
    "nodes = graph.build_nodes(\n",
    "    statements= edges,\n",
    "    curation=curation_nodes,\n",
    "    monarch=monarch_graph_nodes, \n",
    "    regulation=regulation_nodes,\n",
    "    transcriptomics=transcriptomics_nodes, \n",
    "    input_from_file=True\n",
    ")"
   ]
  },
  {
   "cell_type": "code",
   "execution_count": null,
   "metadata": {},
   "outputs": [],
   "source": [
    "# import to graph database\n",
    "## prepare the graph to neo4j format\n",
    "edges_df = utils.get_dataframe(edges)\n",
    "nodes_df = utils.get_dataframe(nodes)\n",
    "statements = neo4jlib.get_statements(edges_df)\n",
    "concepts = neo4jlib.get_concepts(nodes_df)\n",
    "print('statements: ', len(statements))\n",
    "print('concepts: ',len(concepts))\n",
    "\n",
    "## save files into neo4j import dir\n",
    "neo4j_path = ''#'./{}'.format(neo4j_dir)\n",
    "neo4jlib.save_neo4j_files(statements, neo4j_path, file_type = 'statements')\n",
    "neo4jlib.save_neo4j_files(concepts, neo4j_path, file_type = 'concepts')"
   ]
  }
 ],
 "metadata": {
  "kernelspec": {
   "display_name": "Python 3",
   "language": "python",
   "name": "python3"
  },
  "language_info": {
   "codemirror_mode": {
    "name": "ipython",
    "version": 3
   },
   "file_extension": ".py",
   "mimetype": "text/x-python",
   "name": "python",
   "nbconvert_exporter": "python",
   "pygments_lexer": "ipython3",
   "version": "3.7.16"
  }
 },
 "nbformat": 4,
 "nbformat_minor": 4
}
