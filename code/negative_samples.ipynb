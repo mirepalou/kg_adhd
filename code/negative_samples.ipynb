{
 "cells": [
  {
   "cell_type": "markdown",
   "metadata": {},
   "source": [
    "# Negative samples"
   ]
  },
  {
   "cell_type": "code",
   "execution_count": null,
   "metadata": {},
   "outputs": [],
   "source": [
    "import pandas as pd"
   ]
  },
  {
   "cell_type": "code",
   "execution_count": null,
   "metadata": {},
   "outputs": [],
   "source": [
    "# known non interactions\n",
    "ppi1 = open(\"combined_stringent.txt\", \"r\").read()\n",
    "ppi1 = ppi1.split('\\n')[:-1]\n",
    "ppi2 = open(\"combined.txt\", \"r\").read()\n",
    "ppi2 = ppi2.split('\\n')[:-1]\n",
    "ppi = []\n",
    "for p in ppi1:\n",
    "    if p.split('\\t') not in ppi:\n",
    "        ppi.append(p.split('\\t'))\n",
    "for p in ppi2:\n",
    "    if p.split('\\t') not in ppi:\n",
    "        ppi.append(p.split('\\t'))\n",
    "print(len(ppi))\n",
    "not_ppi = pd.DataFrame(ppi, columns=['subject_id', 'object_id'])"
   ]
  },
  {
   "cell_type": "code",
   "execution_count": null,
   "metadata": {},
   "outputs": [],
   "source": [
    "# mapping identifiers\n",
    "mapping = pd.read_csv('idmapping_ppi.tsv', sep='\\t')\n",
    "# mapp2 = pd.read_csv('idmapping_ppi2.tsv', sep='\\t')\n",
    "# mapping = pd.concat([mapp,mapp2]).drop_duplicates()\n",
    "mapping = mapping[mapping.To.isin(nodes_ad.id)] #we only keep what is in our graph\n",
    "print(len(mapping))\n",
    "\n",
    "# Merge interactions_df with mapping_df on Protein1\n",
    "merged_df_1 = not_ppi.merge(mapping, left_on='subject_id', right_on='From', how='left')\n",
    "merged_df_1 = merged_df_1.drop(columns=['From'])\n",
    "merged_df_1 = merged_df_1.rename(columns={'To': 'HGNC_Protein1'})\n",
    "print(len(merged_df_1))\n",
    "\n",
    "# Merge the resulting DataFrame with mapping_df on Protein2\n",
    "merged_df_2 = merged_df_1.merge(mapping, left_on='object_id', right_on='From', how='left')\n",
    "merged_df_2 = merged_df_2.drop(columns=['From'])\n",
    "merged_df_2 = merged_df_2.rename(columns={'To': 'HGNC_Protein2'})\n",
    "print(len(merged_df_2))\n",
    "\n",
    "# Select only the HGNC columns\n",
    "final_df = merged_df_2[['HGNC_Protein1', 'HGNC_Protein2']]\n",
    "final_df = final_df.rename(columns={'HGNC_Protein1': 'subject_id', 'HGNC_Protein2': 'object_id'})\n",
    "non_ppi = final_df.dropna()\n",
    "\n",
    "dup = non_ppi[non_ppi.apply(tuple,1).isin(edges_ad.apply(tuple,1))]\n",
    "print(len(dup))\n",
    "print(len(non_ppi))\n",
    "# non_ppi.head()"
   ]
  },
  {
   "cell_type": "code",
   "execution_count": null,
   "metadata": {},
   "outputs": [],
   "source": [
    "# neg_pairs = set()\n",
    "neg = 1328063 - len(non_ppi)\n",
    "nodes = list(nodes_ad.id)\n",
    "while len(neg_pairs) < neg:\n",
    "    s, o = random.sample(nodes, 2)\n",
    "    neg_pairs.add((s,o))"
   ]
  },
  {
   "cell_type": "code",
   "execution_count": null,
   "metadata": {},
   "outputs": [],
   "source": [
    "# seria mes facil no mirar tot el rato --> mirar al final (aqui)\n",
    "df = pd.DataFrame(neg_pairs)\n",
    "common_rows = df.apply(tuple, 1).isin(edges_ad.apply(tuple, 1))\n",
    "common = len(common_rows[common_rows == True])\n",
    "common"
   ]
  },
  {
   "cell_type": "code",
   "execution_count": null,
   "metadata": {},
   "outputs": [],
   "source": [
    "df = pd.DataFrame(neg_pairs, columns = ['subject_id', 'object_id'])\n",
    "print(df.head())\n",
    "df.to_csv('neg_p.csv',index=False)"
   ]
  }
 ],
 "metadata": {
  "kernelspec": {
   "display_name": "Python 3",
   "language": "python",
   "name": "python3"
  },
  "language_info": {
   "codemirror_mode": {
    "name": "ipython",
    "version": 3
   },
   "file_extension": ".py",
   "mimetype": "text/x-python",
   "name": "python",
   "nbconvert_exporter": "python",
   "pygments_lexer": "ipython3",
   "version": "3.7.16"
  }
 },
 "nbformat": 4,
 "nbformat_minor": 4
}
