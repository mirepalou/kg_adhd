{
 "cells": [
  {
   "cell_type": "markdown",
   "metadata": {},
   "source": [
    "# Prepare data for bert"
   ]
  },
  {
   "cell_type": "code",
   "execution_count": 1,
   "metadata": {},
   "outputs": [
    {
     "name": "stderr",
     "output_type": "stream",
     "text": [
      "C:\\Users\\mirei\\Anaconda3\\lib\\site-packages\\numpy\\_distributor_init.py:32: UserWarning: loaded more than 1 DLL from .libs:\n",
      "C:\\Users\\mirei\\Anaconda3\\lib\\site-packages\\numpy\\.libs\\libopenblas.WCDJNK7YVMPZQ2ME2ZZHJJRJ3JIKNDB7.gfortran-win_amd64.dll\n",
      "C:\\Users\\mirei\\Anaconda3\\lib\\site-packages\\numpy\\.libs\\libopenblas.XWYDX2IKJW2NMTWSFYNGFUWKQU3LYTCZ.gfortran-win_amd64.dll\n",
      "  stacklevel=1)\n",
      "C:\\Users\\mirei\\Anaconda3\\lib\\site-packages\\pandas\\compat\\_optional.py:138: UserWarning: Pandas requires version '2.7.0' or newer of 'numexpr' (version '2.6.9' currently installed).\n",
      "  warnings.warn(msg, UserWarning)\n"
     ]
    }
   ],
   "source": [
    "import pandas as pd\n",
    "from sklearn.model_selection import train_test_split"
   ]
  },
  {
   "cell_type": "code",
   "execution_count": 3,
   "metadata": {},
   "outputs": [],
   "source": [
    "# huntington's\n",
    "nodes_hd = pd.read_csv('final data-kg/graph_nodes_v2024-05-27.csv') #04-02\n",
    "edges_hd = pd.read_csv(\"final data-kg/graph_edges_v2024-05-27.csv\") #04-02\n",
    "pred_pairs = pd.read_csv(\"final data-kg/pred_pairs.csv\")\n",
    "pred_pairs_drugs = pd.read_csv(\"final data-kg/pairs_pred_drugs.csv\")"
   ]
  },
  {
   "cell_type": "code",
   "execution_count": 8,
   "metadata": {},
   "outputs": [
    {
     "name": "stderr",
     "output_type": "stream",
     "text": [
      "C:\\Users\\mirei\\AppData\\Roaming\\Python\\Python37\\site-packages\\IPython\\core\\interactiveshell.py:3417: DtypeWarning: Columns (5) have mixed types.Specify dtype option on import or set low_memory=False.\n",
      "  exec(code_obj, self.user_global_ns, self.user_ns)\n"
     ]
    }
   ],
   "source": [
    "# alzheimer's\n",
    "nodes_ad = pd.read_csv('final data-kg/alz_graph_nodes_v2024-05-25.csv')#\"ALZHEIMER/monarch_nodes_v2024-05-25.csv\")\n",
    "edges_ad = pd.read_csv('final data-kg/alz_graph_edges_v2024-05-25.csv')#\"ALZHEIMER/monarch_edges_v2024-05-25.csv\")\n",
    "ad_dist_edges = pd.read_csv('final data-kg/ad_dist_edges.csv')\n",
    "# nodes_ad.head()"
   ]
  },
  {
   "cell_type": "code",
   "execution_count": 7,
   "metadata": {},
   "outputs": [
    {
     "data": {
      "text/plain": [
       "110814"
      ]
     },
     "execution_count": 7,
     "metadata": {},
     "output_type": "execute_result"
    }
   ],
   "source": [
    "len(ad_dist_edges)"
   ]
  },
  {
   "cell_type": "code",
   "execution_count": 4,
   "metadata": {},
   "outputs": [],
   "source": [
    "def triplet_file(nodes, edges, prop=True):\n",
    "    \n",
    "    # get relevant info on entities/ prepare for merging\n",
    "    subject = nodes.copy()\n",
    "    object_ = nodes.copy()\n",
    "    try:\n",
    "        subject = subject.drop(columns=['semantic_groups'])\n",
    "        subject = subject.rename(columns={\"id\": \"subject_id\", \"preflabel\": \"subject_pl\", \"synonyms\": \"subject_syn\", \n",
    "                                          \"name\": \"subject_nm\", \"description\": \"subject_dsc\"})\n",
    "\n",
    "        object_ = object_.drop(columns=['semantic_groups'])\n",
    "        object_ = object_.rename(columns={\"id\": \"object_id\", \"preflabel\": \"object_pl\", \"synonyms\": \"object_syn\", \n",
    "                                          \"name\": \"object_nm\", \"description\": \"object_dsc\"})\n",
    "    except:\n",
    "        pass\n",
    "    \n",
    "    # combine entities with edges\n",
    "    merged1 = pd.merge(subject, edges, on='subject_id', how='right')\n",
    "    merged2 = pd.merge(object_, merged1, on='object_id', how='right')\n",
    "    print('merging worked:', len(merged1) == len(merged2))\n",
    "    \n",
    "    # fill nans with identifiers\n",
    "    merged2['object_pl'] = merged2['object_pl'].fillna(merged2['object_id'])\n",
    "    merged2['subject_pl'] = merged2['subject_pl'].fillna(merged2['subject_id'])\n",
    "    \n",
    "    if prop:\n",
    "        merged2['property_label'] = merged2['property_label'].fillna(merged2['property_id'])\n",
    "\n",
    "        # clean property label\n",
    "        merged2['property_label'] = merged2['property_label'].str.replace('biolink:', '')\n",
    "        merged2['property_label'] = merged2['property_label'].str.replace('_', ' ')\n",
    "        \n",
    "    else:\n",
    "        # keep only the 3 columns\n",
    "        merged2['property_label'] = 'interacts with'\n",
    "        \n",
    "    # keep only the 3 columns\n",
    "    triplets = merged2[['subject_pl', 'property_label', 'object_pl']]\n",
    "    \n",
    "    return triplets"
   ]
  },
  {
   "cell_type": "code",
   "execution_count": 9,
   "metadata": {},
   "outputs": [
    {
     "name": "stdout",
     "output_type": "stream",
     "text": [
      "merging worked: True\n",
      "True\n"
     ]
    }
   ],
   "source": [
    "triplets_ad = triplet_file(nodes_ad, edges_ad)\n",
    "# saving\n",
    "train, val = train_test_split(triplets_ad, test_size=0.2, random_state=42, shuffle=True)\n",
    "train.to_csv('data-avui/train.csv', sep='\\t', index=False)\n",
    "val.to_csv('data-avui/val.csv', sep='\\t', index=False)\n",
    "print(len(train) + len(val) == len(edges_ad))"
   ]
  },
  {
   "cell_type": "code",
   "execution_count": 11,
   "metadata": {},
   "outputs": [
    {
     "name": "stdout",
     "output_type": "stream",
     "text": [
      "merging worked: True\n",
      "True\n"
     ]
    }
   ],
   "source": [
    "triplets_ad_dist = triplet_file(nodes_ad, ad_dist_edges)\n",
    "train_d, val_d = train_test_split(triplets_ad_dist, test_size=0.2, random_state=42, shuffle=True)\n",
    "train_d.to_csv('data-avui/train_ad.csv', sep='\\t', index=False)\n",
    "val_d.to_csv('data-avui/val_ad.csv', sep='\\t', index=False)\n",
    "print(len(train_d) + len(val_d) == len(ad_dist_edges))"
   ]
  },
  {
   "cell_type": "raw",
   "metadata": {},
   "source": [
    "# saving as csv file \n",
    "triplets_hd = triplet_file(nodes_hd, edges_hd)\n",
    "triplets_hd.to_csv('trip2.csv', index=None) "
   ]
  },
  {
   "cell_type": "code",
   "execution_count": 5,
   "metadata": {},
   "outputs": [
    {
     "name": "stdout",
     "output_type": "stream",
     "text": [
      "merging worked: True\n"
     ]
    }
   ],
   "source": [
    "testing = triplet_file(nodes_hd, pred_pairs, prop=False)\n",
    "testing.to_csv('data/test.csv', index=None) \n",
    "# testing.head()"
   ]
  },
  {
   "cell_type": "code",
   "execution_count": 11,
   "metadata": {},
   "outputs": [
    {
     "name": "stdout",
     "output_type": "stream",
     "text": [
      "merging worked: True\n"
     ]
    }
   ],
   "source": [
    "testing_d = triplet_file(nodes_ad, pred_pairs_drugs, prop=False)\n",
    "testing_d.to_csv('data/test_drugs.csv', index=None) \n",
    "# testing_d.head()"
   ]
  },
  {
   "cell_type": "markdown",
   "metadata": {},
   "source": [
    "---------"
   ]
  },
  {
   "cell_type": "markdown",
   "metadata": {},
   "source": [
    "# split to load to neo4j"
   ]
  },
  {
   "cell_type": "code",
   "execution_count": 20,
   "metadata": {},
   "outputs": [
    {
     "name": "stdout",
     "output_type": "stream",
     "text": [
      "2.712896\n"
     ]
    }
   ],
   "source": [
    "print(len(edges_hd)/500000)\n",
    "one = edges_hd[:500000] #500,000\n",
    "two  = edges_hd[500000:1000000]\n",
    "three = edges_hd[1000000:]\n",
    "one.to_csv('data-neo4j/edges_hd_1.csv', index=False)\n",
    "two.to_csv('data-neo4j/edges_hd_2.csv', index=False)\n",
    "three.to_csv('data-neo4j/edges_hd_3.csv', index=False)"
   ]
  }
 ],
 "metadata": {
  "kernelspec": {
   "display_name": "Python 3",
   "language": "python",
   "name": "python3"
  },
  "language_info": {
   "codemirror_mode": {
    "name": "ipython",
    "version": 3
   },
   "file_extension": ".py",
   "mimetype": "text/x-python",
   "name": "python",
   "nbconvert_exporter": "python",
   "pygments_lexer": "ipython3",
   "version": "3.7.16"
  }
 },
 "nbformat": 4,
 "nbformat_minor": 4
}
