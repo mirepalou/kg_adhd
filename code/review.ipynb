{
 "cells": [
  {
   "cell_type": "markdown",
   "metadata": {},
   "source": [
    "# Review results"
   ]
  },
  {
   "cell_type": "code",
   "execution_count": 1,
   "metadata": {},
   "outputs": [
    {
     "name": "stderr",
     "output_type": "stream",
     "text": [
      "C:\\Users\\mirei\\Anaconda3\\lib\\site-packages\\numpy\\_distributor_init.py:32: UserWarning: loaded more than 1 DLL from .libs:\n",
      "C:\\Users\\mirei\\Anaconda3\\lib\\site-packages\\numpy\\.libs\\libopenblas.WCDJNK7YVMPZQ2ME2ZZHJJRJ3JIKNDB7.gfortran-win_amd64.dll\n",
      "C:\\Users\\mirei\\Anaconda3\\lib\\site-packages\\numpy\\.libs\\libopenblas.XWYDX2IKJW2NMTWSFYNGFUWKQU3LYTCZ.gfortran-win_amd64.dll\n",
      "  stacklevel=1)\n",
      "C:\\Users\\mirei\\Anaconda3\\lib\\site-packages\\pandas\\compat\\_optional.py:138: UserWarning: Pandas requires version '2.7.0' or newer of 'numexpr' (version '2.6.9' currently installed).\n",
      "  warnings.warn(msg, UserWarning)\n"
     ]
    }
   ],
   "source": [
    "import pandas as pd\n",
    "import numpy as np\n",
    "import json\n",
    "from sklearn.metrics import accuracy_score, f1_score, classification_report\n",
    "\n",
    "import seaborn as sns\n",
    "import matplotlib.pyplot as plt"
   ]
  },
  {
   "cell_type": "code",
   "execution_count": 2,
   "metadata": {},
   "outputs": [],
   "source": [
    "def metrics(filename, label_map): \n",
    "    \n",
    "    predictions = pd.read_csv('predictions/'+filename+'.csv', index_col='Unnamed: 0')\n",
    "    # Select only the score columns\n",
    "    score_columns = [col for col in predictions.columns if col.startswith(\"score_\")]\n",
    "    # Find the column with the highest score for each row\n",
    "    predictions['max_score_column'] = predictions[score_columns].idxmax(axis=1)\n",
    "\n",
    "    label_map = json.load(open('predictions/'+label_map+'.txt'))\n",
    "    y_true = [label_map[val] for val in list(predictions['true_label'])]\n",
    "    y_pred = [int(sc.split('_')[1]) for sc in list(predictions['max_score_column'])]\n",
    "    \n",
    "    print(classification_report(y_true, y_pred))\n",
    "#     print(f1_score(y_true, y_pred, average='macro'))\n",
    "#     print(f1_score(y_true, y_pred, average='micro'))\n",
    "#     print(f1_score(y_true, y_pred, average='weighted'))\n",
    "#     print(f1_score(y_true, y_pred, average=None))"
   ]
  },
  {
   "cell_type": "code",
   "execution_count": 17,
   "metadata": {},
   "outputs": [
    {
     "name": "stderr",
     "output_type": "stream",
     "text": [
      "C:\\Users\\mirei\\Anaconda3\\lib\\site-packages\\sklearn\\metrics\\_classification.py:1248: UndefinedMetricWarning: Precision and F-score are ill-defined and being set to 0.0 in labels with no predicted samples. Use `zero_division` parameter to control this behavior.\n",
      "  _warn_prf(average, modifier, msg_start, len(result))\n",
      "C:\\Users\\mirei\\Anaconda3\\lib\\site-packages\\sklearn\\metrics\\_classification.py:1248: UndefinedMetricWarning: Precision and F-score are ill-defined and being set to 0.0 in labels with no predicted samples. Use `zero_division` parameter to control this behavior.\n",
      "  _warn_prf(average, modifier, msg_start, len(result))\n",
      "C:\\Users\\mirei\\Anaconda3\\lib\\site-packages\\sklearn\\metrics\\_classification.py:1248: UndefinedMetricWarning: Precision and F-score are ill-defined and being set to 0.0 in labels with no predicted samples. Use `zero_division` parameter to control this behavior.\n",
      "  _warn_prf(average, modifier, msg_start, len(result))\n"
     ]
    },
    {
     "name": "stdout",
     "output_type": "stream",
     "text": [
      "              precision    recall  f1-score   support\n",
      "\n",
      "           0       0.38      0.98      0.55       135\n",
      "           1       0.51      1.00      0.67    265483\n",
      "           2       0.00      0.00      0.00         2\n",
      "           3       0.66      1.00      0.79      5441\n",
      "           4       0.02      0.75      0.04        12\n",
      "           5       0.01      1.00      0.02         3\n",
      "           6       0.00      0.00      0.00         1\n",
      "           7       0.23      1.00      0.38      2107\n",
      "           8       0.00      0.00      0.00         1\n",
      "           9       0.00      0.00      0.00         3\n",
      "          10       0.91      0.06      0.12      6280\n",
      "          11       0.84      1.00      0.91      4207\n",
      "          12       0.01      0.50      0.01         4\n",
      "          13       0.88      1.00      0.94      4172\n",
      "          14       0.00      0.00      0.00         1\n",
      "          15       0.00      0.00      0.00      1653\n",
      "          16       0.00      0.00      0.00        16\n",
      "          17       1.00      0.00      0.00    265630\n",
      "          18       0.33      1.00      0.49       110\n",
      "          19       0.00      0.00      0.00        36\n",
      "          20       0.01      0.93      0.02        46\n",
      "          21       0.00      0.00      0.00        11\n",
      "          22       0.00      0.00      0.00        60\n",
      "          23       0.02      0.19      0.03        16\n",
      "\n",
      "    accuracy                           0.51    555430\n",
      "   macro avg       0.24      0.43      0.21    555430\n",
      "weighted avg       0.75      0.51      0.35    555430\n",
      "\n"
     ]
    }
   ],
   "source": [
    "metrics('val_preds_sl256', 'map_rel_sl256')"
   ]
  },
  {
   "cell_type": "code",
   "execution_count": 13,
   "metadata": {},
   "outputs": [
    {
     "name": "stderr",
     "output_type": "stream",
     "text": [
      "C:\\Users\\mirei\\Anaconda3\\lib\\site-packages\\sklearn\\metrics\\_classification.py:1248: UndefinedMetricWarning: Precision and F-score are ill-defined and being set to 0.0 in labels with no predicted samples. Use `zero_division` parameter to control this behavior.\n",
      "  _warn_prf(average, modifier, msg_start, len(result))\n",
      "C:\\Users\\mirei\\Anaconda3\\lib\\site-packages\\sklearn\\metrics\\_classification.py:1248: UndefinedMetricWarning: Precision and F-score are ill-defined and being set to 0.0 in labels with no predicted samples. Use `zero_division` parameter to control this behavior.\n",
      "  _warn_prf(average, modifier, msg_start, len(result))\n",
      "C:\\Users\\mirei\\Anaconda3\\lib\\site-packages\\sklearn\\metrics\\_classification.py:1248: UndefinedMetricWarning: Precision and F-score are ill-defined and being set to 0.0 in labels with no predicted samples. Use `zero_division` parameter to control this behavior.\n",
      "  _warn_prf(average, modifier, msg_start, len(result))\n"
     ]
    },
    {
     "name": "stdout",
     "output_type": "stream",
     "text": [
      "              precision    recall  f1-score   support\n",
      "\n",
      "           0       0.00      0.00      0.00         3\n",
      "           1       0.00      0.00      0.00      1653\n",
      "           2       0.00      0.00      0.00         1\n",
      "           3       0.90      0.85      0.88       110\n",
      "           4       0.70      0.95      0.80      6280\n",
      "           5       0.72      0.98      0.83      5441\n",
      "           6       0.44      0.87      0.58       135\n",
      "           7       0.90      1.00      0.95      4172\n",
      "           8       0.00      0.00      0.00        36\n",
      "           9       0.49      0.99      0.66    265630\n",
      "          10       0.00      0.00      0.00        12\n",
      "          11       0.00      0.00      0.00        16\n",
      "          12       0.00      0.00      0.00         1\n",
      "          13       0.00      0.00      0.00         2\n",
      "          14       0.00      0.00      0.00         1\n",
      "          15       0.00      0.00      0.00        11\n",
      "          16       0.00      0.00      0.00    265483\n",
      "          17       0.00      0.00      0.00         4\n",
      "          18       0.00      0.00      0.00        46\n",
      "          19       0.00      0.00      0.00      2107\n",
      "          20       0.00      0.00      0.00        60\n",
      "          21       0.00      0.00      0.00        16\n",
      "          22       0.91      0.96      0.94      4207\n",
      "          23       0.00      0.00      0.00         3\n",
      "\n",
      "    accuracy                           0.51    555430\n",
      "   macro avg       0.21      0.28      0.23    555430\n",
      "weighted avg       0.27      0.51      0.35    555430\n",
      "\n"
     ]
    }
   ],
   "source": [
    "metrics('val_preds_bs16', 'map_rel_bs16')"
   ]
  },
  {
   "cell_type": "code",
   "execution_count": 14,
   "metadata": {},
   "outputs": [
    {
     "name": "stderr",
     "output_type": "stream",
     "text": [
      "C:\\Users\\mirei\\Anaconda3\\lib\\site-packages\\sklearn\\metrics\\_classification.py:1248: UndefinedMetricWarning: Precision and F-score are ill-defined and being set to 0.0 in labels with no predicted samples. Use `zero_division` parameter to control this behavior.\n",
      "  _warn_prf(average, modifier, msg_start, len(result))\n"
     ]
    },
    {
     "name": "stdout",
     "output_type": "stream",
     "text": [
      "              precision    recall  f1-score   support\n",
      "\n",
      "           0       0.00      0.00      0.00      2107\n",
      "           1       0.00      0.00      0.00       135\n",
      "           2       0.69      0.99      0.81      6280\n",
      "           3       0.00      0.00      0.00        16\n",
      "           4       0.00      0.00      0.00        60\n",
      "           5       0.00      0.00      0.00         1\n",
      "           6       0.00      0.00      0.00        16\n",
      "           7       0.00      0.00      0.00         2\n",
      "           8       0.00      0.00      0.00        11\n",
      "           9       0.00      0.00      0.00        12\n",
      "          10       0.00      0.00      0.00      4207\n",
      "          11       0.00      0.00      0.00         1\n",
      "          12       0.00      0.00      0.00         3\n",
      "          13       0.77      0.95      0.85      5441\n",
      "          14       0.00      0.00      0.00         1\n",
      "          15       0.00      0.00      0.00         3\n",
      "          16       0.00      0.00      0.00      1653\n",
      "          17       0.00      0.00      0.00      4172\n",
      "          18       0.83      0.38      0.52    265483\n",
      "          19       0.00      0.00      0.00        36\n",
      "          20       0.00      0.00      0.00       110\n",
      "          21       0.00      0.00      0.00         4\n",
      "          22       0.00      0.00      0.00        46\n",
      "          23       0.58      0.91      0.71    265630\n",
      "\n",
      "    accuracy                           0.64    555430\n",
      "   macro avg       0.12      0.13      0.12    555430\n",
      "weighted avg       0.69      0.64      0.61    555430\n",
      "\n"
     ]
    },
    {
     "name": "stderr",
     "output_type": "stream",
     "text": [
      "C:\\Users\\mirei\\Anaconda3\\lib\\site-packages\\sklearn\\metrics\\_classification.py:1248: UndefinedMetricWarning: Precision and F-score are ill-defined and being set to 0.0 in labels with no predicted samples. Use `zero_division` parameter to control this behavior.\n",
      "  _warn_prf(average, modifier, msg_start, len(result))\n",
      "C:\\Users\\mirei\\Anaconda3\\lib\\site-packages\\sklearn\\metrics\\_classification.py:1248: UndefinedMetricWarning: Precision and F-score are ill-defined and being set to 0.0 in labels with no predicted samples. Use `zero_division` parameter to control this behavior.\n",
      "  _warn_prf(average, modifier, msg_start, len(result))\n"
     ]
    }
   ],
   "source": [
    "metrics('val_preds_lr1', 'map_rel_lr1')"
   ]
  },
  {
   "cell_type": "code",
   "execution_count": 15,
   "metadata": {},
   "outputs": [
    {
     "name": "stderr",
     "output_type": "stream",
     "text": [
      "C:\\Users\\mirei\\Anaconda3\\lib\\site-packages\\sklearn\\metrics\\_classification.py:1248: UndefinedMetricWarning: Precision and F-score are ill-defined and being set to 0.0 in labels with no predicted samples. Use `zero_division` parameter to control this behavior.\n",
      "  _warn_prf(average, modifier, msg_start, len(result))\n",
      "C:\\Users\\mirei\\Anaconda3\\lib\\site-packages\\sklearn\\metrics\\_classification.py:1248: UndefinedMetricWarning: Precision and F-score are ill-defined and being set to 0.0 in labels with no predicted samples. Use `zero_division` parameter to control this behavior.\n",
      "  _warn_prf(average, modifier, msg_start, len(result))\n",
      "C:\\Users\\mirei\\Anaconda3\\lib\\site-packages\\sklearn\\metrics\\_classification.py:1248: UndefinedMetricWarning: Precision and F-score are ill-defined and being set to 0.0 in labels with no predicted samples. Use `zero_division` parameter to control this behavior.\n",
      "  _warn_prf(average, modifier, msg_start, len(result))\n"
     ]
    },
    {
     "name": "stdout",
     "output_type": "stream",
     "text": [
      "              precision    recall  f1-score   support\n",
      "\n",
      "           0       0.00      0.00      0.00         2\n",
      "           1       0.00      0.00      0.00         1\n",
      "           2       0.50      1.00      0.67    265483\n",
      "           3       0.00      0.00      0.00      4172\n",
      "           4       0.00      0.00      0.00        60\n",
      "           5       0.27      0.98      0.42      6280\n",
      "           6       0.00      0.00      0.00      1653\n",
      "           7       0.00      0.00      0.00         1\n",
      "           8       0.00      0.00      0.00        16\n",
      "           9       0.00      0.00      0.00         3\n",
      "          10       0.00      0.00      0.00        36\n",
      "          11       0.00      0.00      0.00      5441\n",
      "          12       0.00      0.00      0.00        46\n",
      "          13       0.00      0.00      0.00       110\n",
      "          14       0.00      0.00      0.00       135\n",
      "          15       0.00      0.00      0.00         1\n",
      "          16       0.00      0.00      0.00      2107\n",
      "          17       0.00      0.00      0.00      4207\n",
      "          18       0.00      0.00      0.00         4\n",
      "          19       0.00      0.00      0.00        11\n",
      "          20       0.00      0.00      0.00        12\n",
      "          21       0.00      0.00      0.00        16\n",
      "          22       0.00      0.00      0.00    265630\n",
      "          23       0.00      0.00      0.00         3\n",
      "\n",
      "    accuracy                           0.49    555430\n",
      "   macro avg       0.03      0.08      0.05    555430\n",
      "weighted avg       0.24      0.49      0.32    555430\n",
      "\n"
     ]
    }
   ],
   "source": [
    "metrics('val_preds_lr3', 'map_rel_lr3')"
   ]
  },
  {
   "cell_type": "code",
   "execution_count": 16,
   "metadata": {},
   "outputs": [
    {
     "name": "stderr",
     "output_type": "stream",
     "text": [
      "C:\\Users\\mirei\\Anaconda3\\lib\\site-packages\\sklearn\\metrics\\_classification.py:1248: UndefinedMetricWarning: Precision and F-score are ill-defined and being set to 0.0 in labels with no predicted samples. Use `zero_division` parameter to control this behavior.\n",
      "  _warn_prf(average, modifier, msg_start, len(result))\n",
      "C:\\Users\\mirei\\Anaconda3\\lib\\site-packages\\sklearn\\metrics\\_classification.py:1248: UndefinedMetricWarning: Precision and F-score are ill-defined and being set to 0.0 in labels with no predicted samples. Use `zero_division` parameter to control this behavior.\n",
      "  _warn_prf(average, modifier, msg_start, len(result))\n",
      "C:\\Users\\mirei\\Anaconda3\\lib\\site-packages\\sklearn\\metrics\\_classification.py:1248: UndefinedMetricWarning: Precision and F-score are ill-defined and being set to 0.0 in labels with no predicted samples. Use `zero_division` parameter to control this behavior.\n",
      "  _warn_prf(average, modifier, msg_start, len(result))\n"
     ]
    },
    {
     "name": "stdout",
     "output_type": "stream",
     "text": [
      "              precision    recall  f1-score   support\n",
      "\n",
      "           0       0.00      0.00      0.00         3\n",
      "           1       0.00      0.00      0.00        36\n",
      "           2       0.00      0.00      0.00       110\n",
      "           3       0.00      0.00      0.00        12\n",
      "           4       0.00      0.00      0.00         1\n",
      "           5       0.00      0.00      0.00         1\n",
      "           6       0.00      0.00      0.00         1\n",
      "           7       0.00      0.00      0.00        16\n",
      "           8       0.00      0.00      0.00       135\n",
      "           9       0.00      0.00      0.00        46\n",
      "          10       0.00      0.00      0.00         2\n",
      "          11       0.00      0.00      0.00      2107\n",
      "          12       0.00      0.00      0.00      4207\n",
      "          13       0.00      0.00      0.00      5441\n",
      "          14       0.00      0.00      0.00        16\n",
      "          15       0.00      0.00      0.00      6280\n",
      "          16       0.00      0.00      0.00        60\n",
      "          17       0.00      0.00      0.00      4172\n",
      "          18       0.00      0.00      0.00         3\n",
      "          19       0.00      0.00      0.00      1653\n",
      "          20       0.00      0.00      0.00    265483\n",
      "          21       0.48      1.00      0.65    265630\n",
      "          22       0.00      0.00      0.00        11\n",
      "          23       0.00      0.00      0.00         4\n",
      "\n",
      "    accuracy                           0.48    555430\n",
      "   macro avg       0.02      0.04      0.03    555430\n",
      "weighted avg       0.23      0.48      0.31    555430\n",
      "\n"
     ]
    }
   ],
   "source": [
    "metrics('val_preds_lr5', 'map_rel_lr5')"
   ]
  },
  {
   "cell_type": "raw",
   "metadata": {},
   "source": [
    "predictions = pd.read_csv('predictions/val_preds_lr1.csv', index_col='Unnamed: 0')\n",
    "# predictions = pd.read_csv('predictions/val_preds_lr3.csv', index_col='Unnamed: 0')\n",
    "# predictions = pd.read_csv('predictions/val_preds_lr5.csv', index_col='Unnamed: 0')\n",
    "# predictions = predictions.drop(columns=['score_10'])\n",
    "\n",
    "# Select only the score columns\n",
    "score_columns = [col for col in predictions.columns if col.startswith(\"score_\")]\n",
    "\n",
    "# Find the column with the highest score for each row\n",
    "predictions['max_score_column'] = predictions[score_columns].idxmax(axis=1)\n",
    "\n",
    "# predictions.info()\n",
    "# predictions['true_label'].value_counts()\n",
    "\n",
    "label_map = json.load(open('predictions/map_rel_lr1.txt'))\n",
    "y_true = [label_map[val] for val in list(predictions['true_label'])]\n",
    "y_pred = [int(sc.split('_')[1]) for sc in list(predictions['max_score_column'])]\n",
    "\n",
    "print(accuracy_score(y_true, y_pred))\n",
    "print(set(y_pred))\n",
    "# predictions.max_score_column\n",
    "print(set(y_true))\n",
    "# label_map\n",
    "\n",
    "print(f1_score(y_true, y_pred, average='macro'))\n",
    "print(f1_score(y_true, y_pred, average='micro'))\n",
    "print(f1_score(y_true, y_pred, average='weighted'))\n",
    "print(f1_score(y_true, y_pred, average=None))\n",
    "\n",
    "\n",
    "print(classification_report(y_true, y_pred))"
   ]
  },
  {
   "cell_type": "markdown",
   "metadata": {},
   "source": [
    "---------------------------"
   ]
  },
  {
   "cell_type": "markdown",
   "metadata": {},
   "source": [
    "### plots"
   ]
  },
  {
   "cell_type": "code",
   "execution_count": 10,
   "metadata": {},
   "outputs": [],
   "source": [
    "def plot_loss(filename):\n",
    "\n",
    "#     loss = pd.DataFrame()\n",
    "#     loss1 = json.load(open('predictions/'+filename+'_lr1.txt'))\n",
    "#     loss['lr 1'] = [np.mean(loss1[0]), np.mean(loss1[1]), np.mean(loss1[2])]\n",
    "#     loss3 = json.load(open('predictions/'+filename+'_lr3.txt'))\n",
    "#     loss['lr 3'] = [np.mean(loss3[0]), np.mean(loss3[1]), np.mean(loss3[2])]\n",
    "#     loss5 = json.load(open('predictions/'+filename+'_lr5.txt'))\n",
    "#     loss['lr 5'] = [np.mean(loss5[0]), np.mean(loss5[1]), np.mean(loss5[2])]\n",
    "    \n",
    "#     loss8 = json.load(open('predictions/'+filename+'_bs8.txt'))\n",
    "#     loss['bs 8'] = [np.mean(loss8[0]), np.mean(loss8[1]), np.mean(loss8[2])]\n",
    "#     loss16 = json.load(open('predictions/'+filename+'_bs16.txt'))\n",
    "#     loss['bs 16'] = [np.mean(loss16[0]), np.mean(loss16[1]), np.mean(loss16[2])]\n",
    "    \n",
    "#     loss256 = json.load(open('predictions/'+filename+'_sl256.txt'))\n",
    "#     loss['sl 256'] = [np.mean(loss256[0]), np.mean(loss256[1]), np.mean(loss256[2])]\n",
    "    loss = pd.DataFrame()\n",
    "    loss1 = json.load(open('predictions/'+filename+'_lr1.txt'))\n",
    "    loss['lr 1'] = [np.mean(loss1[0]), np.mean(loss1[1]), np.mean(loss1[2])]\n",
    "    loss3 = json.load(open('predictions/'+filename+'_lr3.txt'))\n",
    "    loss['lr 3'] = [np.mean(loss3[0]), np.mean(loss3[1]), np.mean(loss3[2])]\n",
    "    loss5 = json.load(open('predictions/'+filename+'_lr5.txt'))\n",
    "    loss['lr 5'] = [np.mean(loss5[0]), np.mean(loss5[1]), np.mean(loss5[2])]\n",
    "    \n",
    "    loss8 = json.load(open('predictions/'+filename+'_bs8.txt'))\n",
    "    loss['bs 8'] = [np.mean(loss8[0]), np.mean(loss8[1]), np.mean(loss8[2])]\n",
    "    loss16 = json.load(open('predictions/'+filename+'_bs16.txt'))\n",
    "    loss['bs 16'] = [np.mean(loss16[0]), np.mean(loss16[1]), np.mean(loss16[2])]\n",
    "    \n",
    "    loss256 = json.load(open('predictions/'+filename+'_sl256.txt'))\n",
    "    loss['sl 256'] = [np.mean(loss256[0]), np.mean(loss256[1]), np.mean(loss256[2])]\n",
    "\n",
    "    # Plotting line charts for training accuracy\n",
    "    plt.figure(figsize=(10, 6))\n",
    "    plt.plot(loss['lr 1'], label = 'lr 1')#, x='epoch', y='train_accuracy', hue='param1', style='param2', markers=True, dashes=False)\n",
    "    plt.plot(loss['lr 3'], label = 'lr 3')\n",
    "    plt.plot(loss['lr 5'], label = 'lr 5')\n",
    "    plt.plot(loss['bs 8'], label = 'bs 8')\n",
    "    plt.plot(loss['bs 16'], label = 'bs 16')\n",
    "    plt.plot(loss['sl 256'], label = 'sl 256')\n",
    "    # sns.lineplot(data=epoch_loss_3[0])\n",
    "    # sns.lineplot(data=epoch_loss_5[0])\n",
    "    plt.title(\"Training loss over timesteps for Different Hyperparameter Settings\")\n",
    "    plt.xlabel(\"Epochs\")\n",
    "    plt.ylabel(\"Training Loss\")\n",
    "    plt.legend(title='Hyperparameters')\n",
    "    plt.show()"
   ]
  },
  {
   "cell_type": "code",
   "execution_count": 11,
   "metadata": {},
   "outputs": [
    {
     "data": {
      "image/png": "[encoded data removed]",
      "text/plain": [
       "<Figure size 720x432 with 1 Axes>"
      ]
     },
     "metadata": {
      "needs_background": "light"
     },
     "output_type": "display_data"
    }
   ],
   "source": [
    "plot_loss('epoch_loss')"
   ]
  },
  {
   "cell_type": "code",
   "execution_count": null,
   "metadata": {},
   "outputs": [],
   "source": []
  }
 ],
 "metadata": {
  "kernelspec": {
   "display_name": "Python 3",
   "language": "python",
   "name": "python3"
  },
  "language_info": {
   "codemirror_mode": {
    "name": "ipython",
    "version": 3
   },
   "file_extension": ".py",
   "mimetype": "text/x-python",
   "name": "python",
   "nbconvert_exporter": "python",
   "pygments_lexer": "ipython3",
   "version": "3.7.16"
  }
 },
 "nbformat": 4,
 "nbformat_minor": 4
}
