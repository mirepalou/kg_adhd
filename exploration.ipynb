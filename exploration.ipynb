{
 "cells": [
  {
   "cell_type": "markdown",
   "metadata": {},
   "source": [
    "# Data exploration"
   ]
  },
  {
   "cell_type": "code",
   "execution_count": 1,
   "metadata": {},
   "outputs": [
    {
     "name": "stderr",
     "output_type": "stream",
     "text": [
      "C:\\Users\\mirei\\Anaconda3\\lib\\site-packages\\numpy\\_distributor_init.py:32: UserWarning: loaded more than 1 DLL from .libs:\n",
      "C:\\Users\\mirei\\Anaconda3\\lib\\site-packages\\numpy\\.libs\\libopenblas.WCDJNK7YVMPZQ2ME2ZZHJJRJ3JIKNDB7.gfortran-win_amd64.dll\n",
      "C:\\Users\\mirei\\Anaconda3\\lib\\site-packages\\numpy\\.libs\\libopenblas.XWYDX2IKJW2NMTWSFYNGFUWKQU3LYTCZ.gfortran-win_amd64.dll\n",
      "  stacklevel=1)\n",
      "C:\\Users\\mirei\\Anaconda3\\lib\\site-packages\\pandas\\compat\\_optional.py:138: UserWarning: Pandas requires version '2.7.0' or newer of 'numexpr' (version '2.6.9' currently installed).\n",
      "  warnings.warn(msg, UserWarning)\n"
     ]
    }
   ],
   "source": [
    "import pandas as pd\n",
    "import numpy as np\n",
    "import networkx as nx\n",
    "import matplotlib.pyplot as plt\n",
    "import seaborn as sns\n",
    "import matplotlib.pyplot as plt"
   ]
  },
  {
   "cell_type": "markdown",
   "metadata": {},
   "source": [
    "### Import data"
   ]
  },
  {
   "cell_type": "raw",
   "metadata": {},
   "source": [
    "nodes_connected_hd = pd.read_csv('ALZHEIMER/hd-id.csv')\n",
    "node_list = nodes_connected_hd['c.id'].str.replace('\"', '')"
   ]
  },
  {
   "cell_type": "code",
   "execution_count": 2,
   "metadata": {},
   "outputs": [
    {
     "name": "stdout",
     "output_type": "stream",
     "text": [
      "17083\n"
     ]
    },
    {
     "name": "stderr",
     "output_type": "stream",
     "text": [
      "C:\\Users\\mirei\\AppData\\Roaming\\Python\\Python37\\site-packages\\IPython\\core\\interactiveshell.py:3417: DtypeWarning: Columns (5) have mixed types.Specify dtype option on import or set low_memory=False.\n",
      "  exec(code_obj, self.user_global_ns, self.user_ns)\n"
     ]
    },
    {
     "data": {
      "text/plain": [
       "1356448"
      ]
     },
     "execution_count": 2,
     "metadata": {},
     "output_type": "execute_result"
    }
   ],
   "source": [
    "nodes_hd = pd.read_csv('final data/graph_nodes_v2024-05-27.csv') #04-02\n",
    "edges_hd = pd.read_csv(\"final data/graph_edges_v2024-05-27.csv\") #04-02\n",
    "print(len(nodes_hd))\n",
    "len(edges_hd)"
   ]
  },
  {
   "cell_type": "code",
   "execution_count": 3,
   "metadata": {},
   "outputs": [
    {
     "name": "stdout",
     "output_type": "stream",
     "text": [
      "17685\n"
     ]
    },
    {
     "data": {
      "text/plain": [
       "1450686"
      ]
     },
     "execution_count": 3,
     "metadata": {},
     "output_type": "execute_result"
    }
   ],
   "source": [
    "nodes_ad = pd.read_csv('final data/alz_graph_nodes_v2024-05-25.csv')#\"ALZHEIMER/monarch_nodes_v2024-05-25.csv\")\n",
    "edges_ad = pd.read_csv('final data/alz_graph_edges_v2024-05-25.csv')#\"ALZHEIMER/monarch_edges_v2024-05-25.csv\")\n",
    "print(len(nodes_ad))\n",
    "len(edges_ad)"
   ]
  },
  {
   "cell_type": "markdown",
   "metadata": {},
   "source": [
    "There is more than one kind of Alzheimer's"
   ]
  },
  {
   "cell_type": "code",
   "execution_count": 4,
   "metadata": {},
   "outputs": [
    {
     "name": "stdout",
     "output_type": "stream",
     "text": [
      "24\n"
     ]
    }
   ],
   "source": [
    "alzh_ids = nodes_ad[(nodes_ad.preflabel.str.contains('Alzheimer')) & (nodes_ad.semantic_groups=='DISO')]\n",
    "print(len(alzh_ids))"
   ]
  },
  {
   "cell_type": "raw",
   "metadata": {},
   "source": [
    "edges_ad[(edges_ad['object_id'].isin(list(alzh_ids.id))) & (edges_ad['subject_id'].isin(list(alzh_ids.id)))]"
   ]
  },
  {
   "cell_type": "markdown",
   "metadata": {},
   "source": [
    "### Cleaning + Distribution relationships and semantic groups"
   ]
  },
  {
   "cell_type": "code",
   "execution_count": 5,
   "metadata": {},
   "outputs": [
    {
     "name": "stdout",
     "output_type": "stream",
     "text": [
      "Relationships in the Huntington's graph\n"
     ]
    }
   ],
   "source": [
    "edges_hd['property_label'] = edges_hd['property_label'].fillna('NA')\n",
    "edges_hd['property_label'] = edges_hd['property_label'].str.replace('biolink:', '')\n",
    "edges_hd['property_label'] = edges_hd['property_label'].str.replace('_', ' ')\n",
    "print(\"Relationships in the Huntington's graph\")\n",
    "print(edges_hd['property_label'].value_counts())"
   ]
  },
  {
   "cell_type": "code",
   "execution_count": 6,
   "metadata": {},
   "outputs": [
    {
     "name": "stdout",
     "output_type": "stream",
     "text": [
      "Relationships in the Alzheimer's graph\n"
     ]
    }
   ],
   "source": [
    "edges_ad['property_label'] = edges_ad['property_label'].fillna('NA')\n",
    "edges_ad['property_label'] = edges_ad['property_label'].str.replace('biolink:', '')\n",
    "edges_ad['property_label'] = edges_ad['property_label'].str.replace('_', ' ')\n",
    "print(\"Relationships in the Alzheimer's graph\")\n",
    "print(edges_ad['property_label'].value_counts())"
   ]
  },
  {
   "cell_type": "code",
   "execution_count": 7,
   "metadata": {},
   "outputs": [],
   "source": [
    "nodes_ad['semantic_groups'] = nodes_ad['semantic_groups'].fillna('NA')\n",
    "# in case it is in the other graph\n",
    "na = nodes_ad[nodes_ad['semantic_groups'] == 'NA'].id\n",
    "for node in na:\n",
    "    nodes_ad.loc[nodes_ad.id == node, 'semantic_groups'] = list(nodes_hd[nodes_hd.id == node]['semantic_groups'])[0]\n",
    "\n",
    "nodes_ad['semantic_groups'] = nodes_ad['semantic_groups'].fillna('NA')\n",
    "   \n",
    "print(nodes_ad['semantic_groups'].value_counts())"
   ]
  },
  {
   "cell_type": "code",
   "execution_count": 8,
   "metadata": {},
   "outputs": [],
   "source": [
    "nodes_hd['semantic_groups'] = nodes_hd['semantic_groups'].fillna('NA')\n",
    "# in case it is in the other graph\n",
    "na = nodes_hd[nodes_hd['semantic_groups'] == 'NA'].id\n",
    "for node in na:\n",
    "    nodes_hd.loc[nodes_hd.id == node, 'semantic_groups'] = list(nodes_ad[nodes_ad.id == node]['semantic_groups'])[0]\n",
    "    \n",
    "print(nodes_hd['semantic_groups'].value_counts())"
   ]
  },
  {
   "cell_type": "markdown",
   "metadata": {},
   "source": [
    "### Transcriptomics post"
   ]
  },
  {
   "cell_type": "raw",
   "metadata": {},
   "source": [
    "# after merging and extra ite with monarh\n",
    "nodes_hd_t = pd.read_csv('graph/graph_nodes_v2024-04-04.csv')\n",
    "edges_hd_t = pd.read_csv('graph/graph_edges_v2024-04-04.csv')\n",
    "rna_edges =pd.read_csv('graph/rna_edges_v2024-03-11.csv')\n",
    "rna_nodes =pd.read_csv('graph/rna_nodes_v2024-03-11.csv')\n",
    "rna_nodes_ids = rna_nodes['id']\n",
    "np.unique(rna_edges['property_label'])\n",
    "# ids_hd = edges_hd['id']\n",
    "# ids_hdt = no_hd_t['id']\n",
    "print(len(set(edges_hd)), len(edges_hd))\n",
    "print(len(set(edges_hd_t)), len(edges_hd_t))\n",
    "res = list(set(edges_hd) - set(edges_hd_t))\n",
    "print(len(res))\n",
    "new = pd.concat([edges_hd_t, edges_hd]).drop_duplicates(keep=False)\n",
    "extra = new[(new['subject_id'].isin(rna_nodes_ids)) | (new['object_id'].isin(rna_nodes_ids))]\n",
    "extra.info()\n",
    "np.unique(extra.property_label)\n",
    "extra[(extra['subject_id']=='HGNC:4851') & (extra['object_id'] =='MONDO:0007739')]"
   ]
  },
  {
   "cell_type": "markdown",
   "metadata": {},
   "source": [
    "## Iron"
   ]
  },
  {
   "cell_type": "raw",
   "metadata": {},
   "source": [
    "# iron in desc\n",
    "desc = nodes_ad.dropna(subset=['description']) \n",
    "iron = desc[desc.description.str.contains('iron')]\n",
    "\n",
    "# iron in name\n",
    "name = nodes_ad.dropna(subset=['name']) \n",
    "iron2 = name[name.name.str.contains('iron')]\n",
    "print(len(iron), len(iron2))\n",
    "iron_t = pd.concat([iron, iron2]).drop_duplicates(keep=False)\n",
    "len(iron_t)"
   ]
  },
  {
   "cell_type": "code",
   "execution_count": 18,
   "metadata": {},
   "outputs": [
    {
     "name": "stdout",
     "output_type": "stream",
     "text": [
      "136 26\n"
     ]
    },
    {
     "data": {
      "text/plain": [
       "120"
      ]
     },
     "execution_count": 18,
     "metadata": {},
     "output_type": "execute_result"
    }
   ],
   "source": [
    "desc = nodes_hd.dropna(subset=['description']) \n",
    "iron = desc[desc.description.str.contains('iron')]\n",
    "\n",
    "name = nodes_hd.dropna(subset=['name']) \n",
    "iron2 = name[name.name.str.contains('iron')]\n",
    "print(len(iron), len(iron2))\n",
    "iron_t = pd.concat([iron, iron2]).drop_duplicates(keep=False)\n",
    "len(iron_t)"
   ]
  },
  {
   "cell_type": "code",
   "execution_count": null,
   "metadata": {},
   "outputs": [],
   "source": [
    "# Create a set of already connected pairs\n",
    "connected_pairs = set(zip(edges_hd['subject_id'], edges_hd['object_id'])) | set(zip(edges_ad['subject_id'], edges_ad['object_id']))\n",
    "\n",
    "# Get all pairs that are not already connected\n",
    "pairs_i = []\n",
    "ids = set(iron_t['id'])\n",
    "\n",
    "for i, id_i in enumerate(ids):\n",
    "    for id_j in list(ids)[i+1:]:\n",
    "        if (id_i, id_j) not in connected_pairs and (id_j, id_i) not in connected_pairs:\n",
    "            pairs_i.append((id_i, id_j))\n",
    "\n",
    "print(len(pairs_i))"
   ]
  },
  {
   "cell_type": "code",
   "execution_count": 26,
   "metadata": {},
   "outputs": [
    {
     "name": "stdout",
     "output_type": "stream",
     "text": [
      "6933\n"
     ]
    }
   ],
   "source": [
    "# get all pairs that are not already connected\n",
    "ids = list(iron_t.id)\n",
    "\n",
    "pairs_i = []\n",
    "for i in range(len(ids)):\n",
    "    for j in range(len(ids)):\n",
    "        if i < j:\n",
    "            if len(edges_hd[(edges_hd.subject_id == ids[i]) & (edges_hd.object_id == ids[j])]) == 0:\n",
    "                if len(edges_hd[(edges_hd.subject_id == ids[j]) & (edges_hd.object_id == ids[i])]) == 0:\n",
    "                    if len(edges_ad[(edges_ad.subject_id == ids[i]) & (edges_ad.object_id == ids[j])]) == 0:\n",
    "                        if len(edges_ad[(edges_ad.subject_id == ids[j]) & (edges_ad.object_id == ids[i])]) == 0:\n",
    "                            pairs_i.append((ids[i], ids[j]))\n",
    "\n",
    "print(len(pairs_i))"
   ]
  },
  {
   "cell_type": "code",
   "execution_count": 22,
   "metadata": {},
   "outputs": [],
   "source": [
    "pairs_pred_iron = pd.DataFrame(pairs, columns=['subject_id', 'object_id'])\n",
    "# pairs_pred.info()\n",
    "pairs_pred_iron.to_csv('pairs_pred_iron.csv', index=False)  "
   ]
  },
  {
   "cell_type": "code",
   "execution_count": 23,
   "metadata": {},
   "outputs": [
    {
     "data": {
      "text/html": [
       "<div>\n",
       "<style scoped>\n",
       "    .dataframe tbody tr th:only-of-type {\n",
       "        vertical-align: middle;\n",
       "    }\n",
       "\n",
       "    .dataframe tbody tr th {\n",
       "        vertical-align: top;\n",
       "    }\n",
       "\n",
       "    .dataframe thead th {\n",
       "        text-align: right;\n",
       "    }\n",
       "</style>\n",
       "<table border=\"1\" class=\"dataframe\">\n",
       "  <thead>\n",
       "    <tr style=\"text-align: right;\">\n",
       "      <th></th>\n",
       "      <th>subject_id</th>\n",
       "      <th>object_id</th>\n",
       "    </tr>\n",
       "  </thead>\n",
       "  <tbody>\n",
       "    <tr>\n",
       "      <th>0</th>\n",
       "      <td>HGNC:48</td>\n",
       "      <td>HGNC:7715</td>\n",
       "    </tr>\n",
       "    <tr>\n",
       "      <th>1</th>\n",
       "      <td>HGNC:48</td>\n",
       "      <td>HGNC:7708</td>\n",
       "    </tr>\n",
       "    <tr>\n",
       "      <th>2</th>\n",
       "      <td>HGNC:48</td>\n",
       "      <td>HGNC:728</td>\n",
       "    </tr>\n",
       "    <tr>\n",
       "      <th>3</th>\n",
       "      <td>HGNC:48</td>\n",
       "      <td>HGNC:12876</td>\n",
       "    </tr>\n",
       "    <tr>\n",
       "      <th>4</th>\n",
       "      <td>HGNC:48</td>\n",
       "      <td>HGNC:7707</td>\n",
       "    </tr>\n",
       "  </tbody>\n",
       "</table>\n",
       "</div>"
      ],
      "text/plain": [
       "  subject_id   object_id\n",
       "0    HGNC:48   HGNC:7715\n",
       "1    HGNC:48   HGNC:7708\n",
       "2    HGNC:48    HGNC:728\n",
       "3    HGNC:48  HGNC:12876\n",
       "4    HGNC:48   HGNC:7707"
      ]
     },
     "execution_count": 23,
     "metadata": {},
     "output_type": "execute_result"
    }
   ],
   "source": [
    "pairs_pred_iron.head()"
   ]
  },
  {
   "cell_type": "markdown",
   "metadata": {},
   "source": [
    "## Metrics"
   ]
  },
  {
   "cell_type": "code",
   "execution_count": 12,
   "metadata": {},
   "outputs": [],
   "source": [
    "def create_graph(df, source, target):\n",
    "    G = nx.DiGraph()\n",
    "    # Add nodes from the 'source' and 'target' columns\n",
    "    G.add_nodes_from(df[source])\n",
    "    G.add_nodes_from(df[target])\n",
    "    # Add edges from the DataFrame\n",
    "    edges = [(row[source], row[target]) for index, row in df.iterrows()]\n",
    "    G.add_edges_from(edges)\n",
    "    return G"
   ]
  },
  {
   "cell_type": "code",
   "execution_count": 10,
   "metadata": {},
   "outputs": [],
   "source": [
    "ad_graph = create_graph(edges_ad, 'subject_id', 'object_id')"
   ]
  },
  {
   "cell_type": "code",
   "execution_count": 13,
   "metadata": {},
   "outputs": [],
   "source": [
    "hd_graph = create_graph(edges_hd, 'subject_id', 'object_id')"
   ]
  },
  {
   "cell_type": "code",
   "execution_count": 14,
   "metadata": {},
   "outputs": [],
   "source": [
    "def degree(graph, nodes, top, plot=False, title=\"Huntington's\"):\n",
    "    \n",
    "    df = pd.DataFrame()\n",
    "#     print('degree absolute')\n",
    "    deg = graph.degree()\n",
    "    deg_s = dict(sorted(deg, key=lambda x:x[1], reverse=True)[:top])\n",
    "    \n",
    "#     print('degree centrality - fraction')\n",
    "    dc = nx.degree_centrality(graph)\n",
    "    dc = dict(sorted(dc.items(), key=lambda x:x[1], reverse=True)[:top])\n",
    " \n",
    "    for node_id in dc:\n",
    "        preflabel = nodes.loc[nodes['id'] == node_id, 'preflabel'].values[0] if node_id in nodes['id'].values else None        \n",
    "        df = df.append({'id': node_id,'preflabel': preflabel,'degree centrality': dc[node_id],'degree': deg[node_id] }, ignore_index=True)\n",
    "        \n",
    "    # plot\n",
    "    if plot == True:\n",
    "        degrees = dict(deg)\n",
    "        pos_degree_vals = list(filter(lambda val: val > 0, degrees.values())) # filtering nodes outdegree values with outdegree > 0\n",
    "        uq_pos_degree_vals = sorted(set(pos_degree_vals)) # getting unique and sorted outdegree values\n",
    "        hist = [pos_degree_vals.count(x) for x in uq_pos_degree_vals] # counting frequency of each outdegree values\n",
    "\n",
    "        x = np.asarray(uq_pos_degree_vals, dtype = float)\n",
    "        y = np.asarray(hist, dtype = float)\n",
    "\n",
    "        logx = np.log10(x)\n",
    "        logy = np.log10(y)\n",
    "\n",
    "        plt.figure(figsize=(10,10))\n",
    "        plt.xlim(min(logx), max(logx))\n",
    "        plt.xlabel('log10 (Degree)')\n",
    "        plt.ylabel('log10 (Number of nodes)')\n",
    "        plt.title(\"Degree Distribution of\"+title)\n",
    "        degree_dist = plt.plot(logx, logy, 'o')\n",
    "\n",
    "    return df"
   ]
  },
  {
   "cell_type": "code",
   "execution_count": 16,
   "metadata": {},
   "outputs": [
    {
     "data": {
      "text/html": [
       "<div>\n",
       "<style scoped>\n",
       "    .dataframe tbody tr th:only-of-type {\n",
       "        vertical-align: middle;\n",
       "    }\n",
       "\n",
       "    .dataframe tbody tr th {\n",
       "        vertical-align: top;\n",
       "    }\n",
       "\n",
       "    .dataframe thead th {\n",
       "        text-align: right;\n",
       "    }\n",
       "</style>\n",
       "<table border=\"1\" class=\"dataframe\">\n",
       "  <thead>\n",
       "    <tr style=\"text-align: right;\">\n",
       "      <th></th>\n",
       "      <th>id</th>\n",
       "      <th>preflabel</th>\n",
       "      <th>degree centrality</th>\n",
       "      <th>degree</th>\n",
       "    </tr>\n",
       "  </thead>\n",
       "  <tbody>\n",
       "    <tr>\n",
       "      <th>0</th>\n",
       "      <td>GO:0005515</td>\n",
       "      <td>protein binding</td>\n",
       "      <td>0.643016</td>\n",
       "      <td>10984.0</td>\n",
       "    </tr>\n",
       "    <tr>\n",
       "      <th>1</th>\n",
       "      <td>HGNC:7553</td>\n",
       "      <td>MYC</td>\n",
       "      <td>0.294345</td>\n",
       "      <td>5028.0</td>\n",
       "    </tr>\n",
       "    <tr>\n",
       "      <th>2</th>\n",
       "      <td>HGNC:31859</td>\n",
       "      <td>TRIM67</td>\n",
       "      <td>0.259806</td>\n",
       "      <td>4438.0</td>\n",
       "    </tr>\n",
       "    <tr>\n",
       "      <th>3</th>\n",
       "      <td>HGNC:9514</td>\n",
       "      <td>PSG1</td>\n",
       "      <td>0.226203</td>\n",
       "      <td>3864.0</td>\n",
       "    </tr>\n",
       "    <tr>\n",
       "      <th>4</th>\n",
       "      <td>HGNC:18224</td>\n",
       "      <td>ZRANB1</td>\n",
       "      <td>0.225442</td>\n",
       "      <td>3851.0</td>\n",
       "    </tr>\n",
       "  </tbody>\n",
       "</table>\n",
       "</div>"
      ],
      "text/plain": [
       "           id        preflabel  degree centrality   degree\n",
       "0  GO:0005515  protein binding           0.643016  10984.0\n",
       "1   HGNC:7553              MYC           0.294345   5028.0\n",
       "2  HGNC:31859           TRIM67           0.259806   4438.0\n",
       "3   HGNC:9514             PSG1           0.226203   3864.0\n",
       "4  HGNC:18224           ZRANB1           0.225442   3851.0"
      ]
     },
     "execution_count": 16,
     "metadata": {},
     "output_type": "execute_result"
    }
   ],
   "source": [
    "metrics_hd = degree(hd_graph, nodes_hd, 5, plot=False, title=\"Huntington's\")\n",
    "metrics_hd"
   ]
  },
  {
   "cell_type": "code",
   "execution_count": 12,
   "metadata": {},
   "outputs": [
    {
     "data": {
      "text/html": [
       "<div>\n",
       "<style scoped>\n",
       "    .dataframe tbody tr th:only-of-type {\n",
       "        vertical-align: middle;\n",
       "    }\n",
       "\n",
       "    .dataframe tbody tr th {\n",
       "        vertical-align: top;\n",
       "    }\n",
       "\n",
       "    .dataframe thead th {\n",
       "        text-align: right;\n",
       "    }\n",
       "</style>\n",
       "<table border=\"1\" class=\"dataframe\">\n",
       "  <thead>\n",
       "    <tr style=\"text-align: right;\">\n",
       "      <th></th>\n",
       "      <th>id</th>\n",
       "      <th>preflabel</th>\n",
       "      <th>degree centrality</th>\n",
       "      <th>degree</th>\n",
       "    </tr>\n",
       "  </thead>\n",
       "  <tbody>\n",
       "    <tr>\n",
       "      <th>0</th>\n",
       "      <td>GO:0005515</td>\n",
       "      <td>protein binding</td>\n",
       "      <td>0.623388</td>\n",
       "      <td>11024.0</td>\n",
       "    </tr>\n",
       "    <tr>\n",
       "      <th>1</th>\n",
       "      <td>HGNC:7553</td>\n",
       "      <td>MYC</td>\n",
       "      <td>0.284494</td>\n",
       "      <td>5031.0</td>\n",
       "    </tr>\n",
       "    <tr>\n",
       "      <th>2</th>\n",
       "      <td>GO:0005634</td>\n",
       "      <td>nucleus</td>\n",
       "      <td>0.271149</td>\n",
       "      <td>4795.0</td>\n",
       "    </tr>\n",
       "    <tr>\n",
       "      <th>3</th>\n",
       "      <td>GO:0005829</td>\n",
       "      <td>cytosol</td>\n",
       "      <td>0.270414</td>\n",
       "      <td>4782.0</td>\n",
       "    </tr>\n",
       "    <tr>\n",
       "      <th>4</th>\n",
       "      <td>HGNC:31859</td>\n",
       "      <td>TRIM67</td>\n",
       "      <td>0.251640</td>\n",
       "      <td>4450.0</td>\n",
       "    </tr>\n",
       "  </tbody>\n",
       "</table>\n",
       "</div>"
      ],
      "text/plain": [
       "           id        preflabel  degree centrality   degree\n",
       "0  GO:0005515  protein binding           0.623388  11024.0\n",
       "1   HGNC:7553              MYC           0.284494   5031.0\n",
       "2  GO:0005634          nucleus           0.271149   4795.0\n",
       "3  GO:0005829          cytosol           0.270414   4782.0\n",
       "4  HGNC:31859           TRIM67           0.251640   4450.0"
      ]
     },
     "execution_count": 12,
     "metadata": {},
     "output_type": "execute_result"
    }
   ],
   "source": [
    "# metrics_ad = pd.DataFrame()\n",
    "metrics_ad = degree(ad_graph, nodes_ad, 5, plot=False, title=\"Alzheimer's\")\n",
    "metrics_ad"
   ]
  },
  {
   "cell_type": "code",
   "execution_count": 31,
   "metadata": {},
   "outputs": [],
   "source": [
    "# higher Closeness Centrality score indicates more central\n",
    "def closeness_centrality(graph, nodes):\n",
    "    df = pd.DataFrame()\n",
    "    clos = nx.closeness_centrality(graph)\n",
    "    close = dict(sorted(clos.items(), key=lambda x:x[1], reverse=True)[:5])\n",
    "    for node_id in close:\n",
    "        preflabel = nodes.loc[nodes['id'] == node_id, 'preflabel'].values[0] if node_id in nodes['id'].values else None        \n",
    "        df = df.append({'id': node_id,'preflabel': preflabel,'closeness': close[node_id] }, ignore_index=True)\n",
    "        \n",
    "    return df"
   ]
  },
  {
   "cell_type": "code",
   "execution_count": 32,
   "metadata": {},
   "outputs": [
    {
     "data": {
      "text/html": [
       "<div>\n",
       "<style scoped>\n",
       "    .dataframe tbody tr th:only-of-type {\n",
       "        vertical-align: middle;\n",
       "    }\n",
       "\n",
       "    .dataframe tbody tr th {\n",
       "        vertical-align: top;\n",
       "    }\n",
       "\n",
       "    .dataframe thead th {\n",
       "        text-align: right;\n",
       "    }\n",
       "</style>\n",
       "<table border=\"1\" class=\"dataframe\">\n",
       "  <thead>\n",
       "    <tr style=\"text-align: right;\">\n",
       "      <th></th>\n",
       "      <th>id</th>\n",
       "      <th>preflabel</th>\n",
       "      <th>closeness</th>\n",
       "    </tr>\n",
       "  </thead>\n",
       "  <tbody>\n",
       "    <tr>\n",
       "      <th>0</th>\n",
       "      <td>GO:0005515</td>\n",
       "      <td>protein binding</td>\n",
       "      <td>0.672139</td>\n",
       "    </tr>\n",
       "    <tr>\n",
       "      <th>1</th>\n",
       "      <td>GO:0005829</td>\n",
       "      <td>cytosol</td>\n",
       "      <td>0.488325</td>\n",
       "    </tr>\n",
       "    <tr>\n",
       "      <th>2</th>\n",
       "      <td>GO:0005737</td>\n",
       "      <td>cytoplasm</td>\n",
       "      <td>0.487895</td>\n",
       "    </tr>\n",
       "    <tr>\n",
       "      <th>3</th>\n",
       "      <td>GO:0005634</td>\n",
       "      <td>nucleus</td>\n",
       "      <td>0.486638</td>\n",
       "    </tr>\n",
       "    <tr>\n",
       "      <th>4</th>\n",
       "      <td>GO:0005886</td>\n",
       "      <td>plasma membrane</td>\n",
       "      <td>0.464297</td>\n",
       "    </tr>\n",
       "  </tbody>\n",
       "</table>\n",
       "</div>"
      ],
      "text/plain": [
       "           id        preflabel  closeness\n",
       "0  GO:0005515  protein binding   0.672139\n",
       "1  GO:0005829          cytosol   0.488325\n",
       "2  GO:0005737        cytoplasm   0.487895\n",
       "3  GO:0005634          nucleus   0.486638\n",
       "4  GO:0005886  plasma membrane   0.464297"
      ]
     },
     "execution_count": 32,
     "metadata": {},
     "output_type": "execute_result"
    }
   ],
   "source": [
    "closeness = closeness_centrality(ad_graph, nodes_ad)\n",
    "closeness"
   ]
  },
  {
   "cell_type": "code",
   "execution_count": 33,
   "metadata": {},
   "outputs": [
    {
     "data": {
      "text/html": [
       "<div>\n",
       "<style scoped>\n",
       "    .dataframe tbody tr th:only-of-type {\n",
       "        vertical-align: middle;\n",
       "    }\n",
       "\n",
       "    .dataframe tbody tr th {\n",
       "        vertical-align: top;\n",
       "    }\n",
       "\n",
       "    .dataframe thead th {\n",
       "        text-align: right;\n",
       "    }\n",
       "</style>\n",
       "<table border=\"1\" class=\"dataframe\">\n",
       "  <thead>\n",
       "    <tr style=\"text-align: right;\">\n",
       "      <th></th>\n",
       "      <th>id</th>\n",
       "      <th>preflabel</th>\n",
       "      <th>closeness</th>\n",
       "    </tr>\n",
       "  </thead>\n",
       "  <tbody>\n",
       "    <tr>\n",
       "      <th>0</th>\n",
       "      <td>GO:0005515</td>\n",
       "      <td>protein binding</td>\n",
       "      <td>0.692476</td>\n",
       "    </tr>\n",
       "    <tr>\n",
       "      <th>1</th>\n",
       "      <td>HP:0000006</td>\n",
       "      <td>Autosomal dominant inheritance</td>\n",
       "      <td>0.436201</td>\n",
       "    </tr>\n",
       "    <tr>\n",
       "      <th>2</th>\n",
       "      <td>HGNC:620</td>\n",
       "      <td>APP</td>\n",
       "      <td>0.433730</td>\n",
       "    </tr>\n",
       "    <tr>\n",
       "      <th>3</th>\n",
       "      <td>UBERON:0003701</td>\n",
       "      <td>calcaneal tendon</td>\n",
       "      <td>0.432212</td>\n",
       "    </tr>\n",
       "    <tr>\n",
       "      <th>4</th>\n",
       "      <td>UBERON:0003053</td>\n",
       "      <td>ventricular zone</td>\n",
       "      <td>0.428620</td>\n",
       "    </tr>\n",
       "  </tbody>\n",
       "</table>\n",
       "</div>"
      ],
      "text/plain": [
       "               id                       preflabel  closeness\n",
       "0      GO:0005515                 protein binding   0.692476\n",
       "1      HP:0000006  Autosomal dominant inheritance   0.436201\n",
       "2        HGNC:620                             APP   0.433730\n",
       "3  UBERON:0003701                calcaneal tendon   0.432212\n",
       "4  UBERON:0003053                ventricular zone   0.428620"
      ]
     },
     "execution_count": 33,
     "metadata": {},
     "output_type": "execute_result"
    }
   ],
   "source": [
    "closeness = closeness_centrality(hd_graph, nodes_hd)\n",
    "closeness"
   ]
  },
  {
   "cell_type": "code",
   "execution_count": 34,
   "metadata": {},
   "outputs": [],
   "source": [
    "# higher betweenness Centrality score indicates more central\n",
    "def betweenness_centrality(graph, nodes, top=5):\n",
    "    df = pd.DataFrame()\n",
    "    betw = nx.betweenness_centrality(hd_graph)\n",
    "    betweenness = dict(sorted(betw.items(), key=lambda x:x[1])[:top])\n",
    "    for node_id in close:\n",
    "        preflabel = nodes.loc[nodes['id'] == node_id, 'preflabel'].values[0] if node_id in nodes['id'].values else None        \n",
    "        df = df.append({'id': node_id,'preflabel': preflabel,'betweenness': betweenness[node_id] }, ignore_index=True)\n",
    "        \n",
    "    return df"
   ]
  },
  {
   "cell_type": "code",
   "execution_count": 35,
   "metadata": {},
   "outputs": [
    {
     "ename": "NameError",
     "evalue": "name 'close' is not defined",
     "output_type": "error",
     "traceback": [
      "\u001b[1;31m---------------------------------------------------------------------------\u001b[0m",
      "\u001b[1;31mNameError\u001b[0m                                 Traceback (most recent call last)",
      "\u001b[1;32m<ipython-input-35-64578bc52125>\u001b[0m in \u001b[0;36m<module>\u001b[1;34m\u001b[0m\n\u001b[1;32m----> 1\u001b[1;33m \u001b[0mbetweenness\u001b[0m \u001b[1;33m=\u001b[0m \u001b[0mbetweenness_centrality\u001b[0m\u001b[1;33m(\u001b[0m\u001b[0mad_graph\u001b[0m\u001b[1;33m,\u001b[0m \u001b[0mnodes_ad\u001b[0m\u001b[1;33m,\u001b[0m \u001b[1;36m5\u001b[0m\u001b[1;33m)\u001b[0m\u001b[1;33m\u001b[0m\u001b[1;33m\u001b[0m\u001b[0m\n\u001b[0m\u001b[0;32m      2\u001b[0m \u001b[0mbetweenness\u001b[0m\u001b[1;33m\u001b[0m\u001b[1;33m\u001b[0m\u001b[0m\n",
      "\u001b[1;32m<ipython-input-34-753b3b382ca5>\u001b[0m in \u001b[0;36mbetweenness_centrality\u001b[1;34m(graph, nodes, top)\u001b[0m\n\u001b[0;32m      4\u001b[0m     \u001b[0mbetw\u001b[0m \u001b[1;33m=\u001b[0m \u001b[0mnx\u001b[0m\u001b[1;33m.\u001b[0m\u001b[0mbetweenness_centrality\u001b[0m\u001b[1;33m(\u001b[0m\u001b[0mhd_graph\u001b[0m\u001b[1;33m)\u001b[0m\u001b[1;33m\u001b[0m\u001b[1;33m\u001b[0m\u001b[0m\n\u001b[0;32m      5\u001b[0m     \u001b[0mbetweenness\u001b[0m \u001b[1;33m=\u001b[0m \u001b[0mdict\u001b[0m\u001b[1;33m(\u001b[0m\u001b[0msorted\u001b[0m\u001b[1;33m(\u001b[0m\u001b[0mbetw\u001b[0m\u001b[1;33m.\u001b[0m\u001b[0mitems\u001b[0m\u001b[1;33m(\u001b[0m\u001b[1;33m)\u001b[0m\u001b[1;33m,\u001b[0m \u001b[0mkey\u001b[0m\u001b[1;33m=\u001b[0m\u001b[1;32mlambda\u001b[0m \u001b[0mx\u001b[0m\u001b[1;33m:\u001b[0m\u001b[0mx\u001b[0m\u001b[1;33m[\u001b[0m\u001b[1;36m1\u001b[0m\u001b[1;33m]\u001b[0m\u001b[1;33m)\u001b[0m\u001b[1;33m[\u001b[0m\u001b[1;33m:\u001b[0m\u001b[0mtop\u001b[0m\u001b[1;33m]\u001b[0m\u001b[1;33m)\u001b[0m\u001b[1;33m\u001b[0m\u001b[1;33m\u001b[0m\u001b[0m\n\u001b[1;32m----> 6\u001b[1;33m     \u001b[1;32mfor\u001b[0m \u001b[0mnode_id\u001b[0m \u001b[1;32min\u001b[0m \u001b[0mclose\u001b[0m\u001b[1;33m:\u001b[0m\u001b[1;33m\u001b[0m\u001b[1;33m\u001b[0m\u001b[0m\n\u001b[0m\u001b[0;32m      7\u001b[0m         \u001b[0mpreflabel\u001b[0m \u001b[1;33m=\u001b[0m \u001b[0mnodes\u001b[0m\u001b[1;33m.\u001b[0m\u001b[0mloc\u001b[0m\u001b[1;33m[\u001b[0m\u001b[0mnodes\u001b[0m\u001b[1;33m[\u001b[0m\u001b[1;34m'id'\u001b[0m\u001b[1;33m]\u001b[0m \u001b[1;33m==\u001b[0m \u001b[0mnode_id\u001b[0m\u001b[1;33m,\u001b[0m \u001b[1;34m'preflabel'\u001b[0m\u001b[1;33m]\u001b[0m\u001b[1;33m.\u001b[0m\u001b[0mvalues\u001b[0m\u001b[1;33m[\u001b[0m\u001b[1;36m0\u001b[0m\u001b[1;33m]\u001b[0m \u001b[1;32mif\u001b[0m \u001b[0mnode_id\u001b[0m \u001b[1;32min\u001b[0m \u001b[0mnodes\u001b[0m\u001b[1;33m[\u001b[0m\u001b[1;34m'id'\u001b[0m\u001b[1;33m]\u001b[0m\u001b[1;33m.\u001b[0m\u001b[0mvalues\u001b[0m \u001b[1;32melse\u001b[0m \u001b[1;32mNone\u001b[0m\u001b[1;33m\u001b[0m\u001b[1;33m\u001b[0m\u001b[0m\n\u001b[0;32m      8\u001b[0m         \u001b[0mdf\u001b[0m \u001b[1;33m=\u001b[0m \u001b[0mdf\u001b[0m\u001b[1;33m.\u001b[0m\u001b[0mappend\u001b[0m\u001b[1;33m(\u001b[0m\u001b[1;33m{\u001b[0m\u001b[1;34m'id'\u001b[0m\u001b[1;33m:\u001b[0m \u001b[0mnode_id\u001b[0m\u001b[1;33m,\u001b[0m\u001b[1;34m'preflabel'\u001b[0m\u001b[1;33m:\u001b[0m \u001b[0mpreflabel\u001b[0m\u001b[1;33m,\u001b[0m\u001b[1;34m'betweenness'\u001b[0m\u001b[1;33m:\u001b[0m \u001b[0mbetweenness\u001b[0m\u001b[1;33m[\u001b[0m\u001b[0mnode_id\u001b[0m\u001b[1;33m]\u001b[0m \u001b[1;33m}\u001b[0m\u001b[1;33m,\u001b[0m \u001b[0mignore_index\u001b[0m\u001b[1;33m=\u001b[0m\u001b[1;32mTrue\u001b[0m\u001b[1;33m)\u001b[0m\u001b[1;33m\u001b[0m\u001b[1;33m\u001b[0m\u001b[0m\n",
      "\u001b[1;31mNameError\u001b[0m: name 'close' is not defined"
     ]
    }
   ],
   "source": [
    "betweenness = betweenness_centrality(ad_graph, nodes_ad, 5)\n",
    "betweenness"
   ]
  },
  {
   "cell_type": "code",
   "execution_count": null,
   "metadata": {},
   "outputs": [],
   "source": [
    "betweenness = betweenness_centrality(hd_graph, nodes_hd, 5)\n",
    "betweenness"
   ]
  },
  {
   "cell_type": "raw",
   "metadata": {},
   "source": [
    "# import matplotlib.pyplot as plt\n",
    "# # Draw the graph\n",
    "# pos = nx.spring_layout(hd_graph) # Define the layout for node positioning\n",
    "# nx.draw(hd_graph, pos, with_labels=True, node_color='skyblue', font_color='black')\n",
    "# # Display the graph\n",
    "# plt.show()"
   ]
  },
  {
   "cell_type": "markdown",
   "metadata": {},
   "source": [
    "## Finding commonalities"
   ]
  },
  {
   "cell_type": "markdown",
   "metadata": {},
   "source": [
    "### Common nodes"
   ]
  },
  {
   "cell_type": "raw",
   "metadata": {},
   "source": [
    "with open(\"nodes_hd.txt\", \"w\") as output:\n",
    "    for row in list(nodes_hd.id):\n",
    "        output.write(str(row) + '\\n')\n",
    "    \n",
    "with open(\"nodes_ad.txt\", \"w\") as output:\n",
    "    for row in list(nodes_ad.id):\n",
    "        output.write(str(row) + '\\n')"
   ]
  },
  {
   "cell_type": "raw",
   "metadata": {},
   "source": [
    "# verify theres no repe\n",
    "print(len(list(nodes_hd.id)) == len(set(list(nodes_hd.id))))\n",
    "print(len(list(nodes_ad.id)) == len(set(list(nodes_ad.id))))\n",
    "\n",
    "#verify total nodes with repe\n",
    "len(list(nodes_ad.id)+ list(nodes_hd.id)) == len(list(nodes_ad.id))+ len(list(nodes_hd.id))"
   ]
  },
  {
   "cell_type": "code",
   "execution_count": 9,
   "metadata": {},
   "outputs": [
    {
     "name": "stdout",
     "output_type": "stream",
     "text": [
      "Total with repe: 34768\n",
      "Total wo repe: 17772\n",
      "In common  16996\n",
      "Distinct HD 87\n",
      "Distinct AD 689\n"
     ]
    }
   ],
   "source": [
    "total_r = len(list(nodes_ad.id)+ list(nodes_hd.id))\n",
    "total = len(set(list(nodes_ad.id)+ list(nodes_hd.id)))\n",
    "common = (total_r - total)\n",
    "print('Total with repe:', total_r)\n",
    "print('Total wo repe:', total)\n",
    "print('In common ', common)\n",
    "dis_hd = len(nodes_hd.id) - common\n",
    "dis_ad = len(nodes_ad.id) - common\n",
    "print('Distinct HD', dis_hd)\n",
    "print('Distinct AD', dis_ad)"
   ]
  },
  {
   "cell_type": "code",
   "execution_count": 10,
   "metadata": {},
   "outputs": [
    {
     "name": "stdout",
     "output_type": "stream",
     "text": [
      "True\n",
      "GENE    16193\n",
      "NA        770\n",
      "DISO       26\n",
      "ANAT        4\n",
      "GENO        2\n",
      "PHYS        1\n",
      "Name: semantic_groups, dtype: int64\n"
     ]
    }
   ],
   "source": [
    "nodes_f = pd.merge(nodes_ad, nodes_hd, on=['id'], how='inner', indicator=False)\n",
    "print(len(nodes_f) == common)\n",
    "# to correctly check the semantic groups\n",
    "nodes = nodes_hd[nodes_hd.id.isin(nodes_f.id)]\n",
    "print(nodes['semantic_groups'].value_counts())"
   ]
  },
  {
   "cell_type": "markdown",
   "metadata": {},
   "source": [
    "### Common edges"
   ]
  },
  {
   "cell_type": "raw",
   "metadata": {},
   "source": [
    "# distinct edges???\n",
    "nodes_ad = edges_ad[['subject_id', 'object_id', 'property_id']]\n",
    "nodes_hd = edges_hd[['subject_id', 'object_id', 'property_id']]\n",
    "merged_df = pd.merge(nodes_ad, nodes_hd, on=['subject_id', 'object_id', 'property_id'], how='outer')\n",
    "\n",
    "# Display the result\n",
    "print(len(merged_df))"
   ]
  },
  {
   "cell_type": "code",
   "execution_count": null,
   "metadata": {},
   "outputs": [],
   "source": [
    "hd = edges_hd.drop_duplicates()\n",
    "ad = edges_ad.drop_duplicates()\n",
    "hd['subject_id'] = hd['subject_id'].astype(str)\n",
    "hd['object_id'] = hd['object_id'].astype(str)\n",
    "hd['property_id'] = hd['property_id'].astype(str)\n",
    "\n",
    "ad['subject_id'] = ad['subject_id'].astype(str)\n",
    "ad['object_id'] = ad['object_id'].astype(str)\n",
    "ad['property_id'] = ad['property_id'].astype(str)\n",
    "print(len(hd), len(ad))\n",
    "\n",
    "common_rows = hd.apply(tuple, 1).isin(ad.apply(tuple, 1))\n",
    "hd_distinct = hd[~hd.apply(tuple,1).isin(ad.apply(tuple,1))]\n",
    "ad_distinct = ad[~ad.apply(tuple,1).isin(hd.apply(tuple,1))]\n",
    "common = len(common_rows[common_rows == True])\n",
    "print('In common:', common)\n",
    "print('Only in HD:', len(hd_distinct), common+len(hd_distinct) == len(hd))\n",
    "print('Only in AD:',len(ad_distinct), common+len(ad_distinct) == len(ad))"
   ]
  },
  {
   "cell_type": "code",
   "execution_count": null,
   "metadata": {},
   "outputs": [],
   "source": [
    "cc = hd[common_rows]\n",
    "cc['property_label'].value_counts()"
   ]
  },
  {
   "cell_type": "raw",
   "metadata": {},
   "source": [
    "# common = hd - only hd\n",
    "print(edges_hd['property_label'].value_counts() - hd_distinct['property_label'].value_counts())\n",
    "print(edges_ad['property_label'].value_counts() - ad_distinct['property_label'].value_counts())"
   ]
  },
  {
   "cell_type": "code",
   "execution_count": 34,
   "metadata": {},
   "outputs": [],
   "source": [
    "ad_distinct.to_csv('ad_edges.csv', index=False)"
   ]
  },
  {
   "cell_type": "raw",
   "metadata": {},
   "source": [
    "# squares\n",
    "total_r = len(edges_ad)+ len(edges_hd)\n",
    "distinct = len(merged_df)\n",
    "common = (total_r - distinct)\n",
    "print('Total with repe:', total_r)\n",
    "print('Distinct:', distinct)\n",
    "print('In common ', common)\n",
    "dis_hd = len(edges_hd) - common\n",
    "dis_ad = len(edges_ad) - common\n",
    "print('Distinct HD', dis_hd)\n",
    "print('Distinct AD', dis_ad)\n",
    "dis_hd + dis_ad + common == distinct"
   ]
  },
  {
   "cell_type": "markdown",
   "metadata": {},
   "source": [
    "### TO predict"
   ]
  },
  {
   "cell_type": "raw",
   "metadata": {},
   "source": [
    "# different rows in hd\n",
    "diff = hd[~hd.apply(tuple, 1).isin(ad.apply(tuple, 1))]\n",
    "nod = set(list(diff.subject_id)+ list(diff.object_id))\n",
    "len(nod)"
   ]
  },
  {
   "cell_type": "raw",
   "metadata": {},
   "source": [
    "nodes_predict = set(list(hd_distinct.subject_id)+list(hd_distinct.object_id))\n",
    "len(nodes_predict)"
   ]
  },
  {
   "cell_type": "code",
   "execution_count": 14,
   "metadata": {},
   "outputs": [
    {
     "data": {
      "text/plain": [
       "DISO    52\n",
       "GENE    20\n",
       "ANAT     6\n",
       "GENO     6\n",
       "PHYS     3\n",
       "Name: semantic_groups, dtype: int64"
      ]
     },
     "execution_count": 14,
     "metadata": {},
     "output_type": "execute_result"
    }
   ],
   "source": [
    "nodes_predict2 = nodes_hd[~nodes_hd.id.isin(nodes_f.id)]\n",
    "nodes_predict2.semantic_groups.value_counts()"
   ]
  },
  {
   "cell_type": "code",
   "execution_count": 15,
   "metadata": {},
   "outputs": [
    {
     "data": {
      "text/html": [
       "<div>\n",
       "<style scoped>\n",
       "    .dataframe tbody tr th:only-of-type {\n",
       "        vertical-align: middle;\n",
       "    }\n",
       "\n",
       "    .dataframe tbody tr th {\n",
       "        vertical-align: top;\n",
       "    }\n",
       "\n",
       "    .dataframe thead th {\n",
       "        text-align: right;\n",
       "    }\n",
       "</style>\n",
       "<table border=\"1\" class=\"dataframe\">\n",
       "  <thead>\n",
       "    <tr style=\"text-align: right;\">\n",
       "      <th></th>\n",
       "      <th>id</th>\n",
       "      <th>semantic_groups</th>\n",
       "      <th>preflabel</th>\n",
       "      <th>synonyms</th>\n",
       "      <th>name</th>\n",
       "      <th>description</th>\n",
       "    </tr>\n",
       "  </thead>\n",
       "  <tbody>\n",
       "    <tr>\n",
       "      <th>11743</th>\n",
       "      <td>MONDO:0016621</td>\n",
       "      <td>DISO</td>\n",
       "      <td>juvenile Huntington disease</td>\n",
       "      <td>NaN</td>\n",
       "      <td>juvenile Huntington disease</td>\n",
       "      <td>NaN</td>\n",
       "    </tr>\n",
       "    <tr>\n",
       "      <th>11937</th>\n",
       "      <td>MONDO:0007739</td>\n",
       "      <td>DISO</td>\n",
       "      <td>Huntington disease</td>\n",
       "      <td>NaN</td>\n",
       "      <td>Huntington disease</td>\n",
       "      <td>NaN</td>\n",
       "    </tr>\n",
       "    <tr>\n",
       "      <th>16141</th>\n",
       "      <td>MONDO:0000167</td>\n",
       "      <td>DISO</td>\n",
       "      <td>Huntington disease and related disorders</td>\n",
       "      <td>NaN</td>\n",
       "      <td>Huntington disease and related disorders</td>\n",
       "      <td>NaN</td>\n",
       "    </tr>\n",
       "  </tbody>\n",
       "</table>\n",
       "</div>"
      ],
      "text/plain": [
       "                  id semantic_groups  \\\n",
       "11743  MONDO:0016621            DISO   \n",
       "11937  MONDO:0007739            DISO   \n",
       "16141  MONDO:0000167            DISO   \n",
       "\n",
       "                                      preflabel synonyms  \\\n",
       "11743               juvenile Huntington disease      NaN   \n",
       "11937                        Huntington disease      NaN   \n",
       "16141  Huntington disease and related disorders      NaN   \n",
       "\n",
       "                                           name description  \n",
       "11743               juvenile Huntington disease         NaN  \n",
       "11937                        Huntington disease         NaN  \n",
       "16141  Huntington disease and related disorders         NaN  "
      ]
     },
     "execution_count": 15,
     "metadata": {},
     "output_type": "execute_result"
    }
   ],
   "source": [
    "nodes_predict2[nodes_predict2.preflabel.str.contains('Hunt')]"
   ]
  },
  {
   "cell_type": "code",
   "execution_count": null,
   "metadata": {},
   "outputs": [],
   "source": [
    "# nodes only in HD graph\n",
    "nodes_predict2 = nodes_hd[~nodes_hd.id.isin(nodes_f.id)]\n",
    "ids = list(nodes_predict2.id)\n",
    "\n",
    "# get all pairs that are not already connected\n",
    "pairs = []\n",
    "for i in range(len(ids)):\n",
    "    for j in range(len(ids)):\n",
    "        if i < j:\n",
    "            if len(edges_hd[(edges_hd.subject_id == ids[i]) & (edges_hd.object_id == ids[j])]) == 0:\n",
    "                if len(edges_hd[(edges_hd.subject_id == ids[j]) & (edges_hd.object_id == ids[i])]) == 0:\n",
    "                    pairs.append((ids[i], ids[j]))\n",
    "\n",
    "print(len(pairs))"
   ]
  },
  {
   "cell_type": "code",
   "execution_count": 33,
   "metadata": {},
   "outputs": [],
   "source": [
    "pairs_pred = pd.DataFrame(pairs, columns=['subject_id', 'object_id'])\n",
    "# pairs_pred.info()\n",
    "pairs_pred.to_csv('pairs_pred.csv', index=False)  "
   ]
  },
  {
   "cell_type": "markdown",
   "metadata": {},
   "source": [
    "### Common phenotypes"
   ]
  },
  {
   "cell_type": "raw",
   "metadata": {},
   "source": [
    "# FIND COMMON PHENOTYPES\n",
    "pheno = cc[(cc['property_label'] == 'has phenotype')] #& (cc['subject_id'] == 'MONDO:0007739')\n",
    "diseases = nodes_hd[nodes_hd['id'].isin(list(pheno.subject_id))]\n",
    "phenotypes = nodes_hd[nodes_hd['id'].isin(list(pheno.object_id))]\n",
    "\n",
    "len(diseases)"
   ]
  },
  {
   "cell_type": "code",
   "execution_count": 37,
   "metadata": {},
   "outputs": [
    {
     "name": "stdout",
     "output_type": "stream",
     "text": [
      "59\n",
      "47\n",
      "['Seizure', 'Agitation', 'Gait disturbance', 'Dystonia', 'Babinski sign', 'Memory impairment', 'Myoclonus', 'Dementia', 'Hallucinations', 'Disinhibition', 'Personality changes']\n"
     ]
    }
   ],
   "source": [
    "# FIND COMMON PHENOTYPES\n",
    "\n",
    "# phenotypes directly attached to HD\n",
    "pheno_h = edges_hd[(edges_hd['property_label'] == 'has phenotype') & (edges_hd['subject_id'] == 'MONDO:0007739')]\n",
    "phenotypes_h = nodes_hd[nodes_hd['id'].isin(list(pheno_h.object_id))]\n",
    "# phenotypes_h['preflabel'] = phenotypes_h['preflabel'].apply(lambda x: x.lower() if isinstance(x, str) else x)\n",
    "print(len(phenotypes_h))\n",
    "\n",
    "# phenotypes directly attached to AD\n",
    "pheno_a = edges_ad[(edges_ad['property_label'] == 'has phenotype') & (edges_ad['subject_id'].isin(list(alzh_ids.id)))]\n",
    "phenotypes_a = nodes_ad[nodes_ad['id'].isin(list(pheno_a.object_id))]\n",
    "# phenotypes_a['preflabel'] = phenotypes_a['preflabel'].apply(lambda x: x.lower() if isinstance(x, str) else x)\n",
    "print(len(phenotypes_a))\n",
    "\n",
    "# both have the same phenotypes\n",
    "phenotypes = pd.merge(phenotypes_a, phenotypes_h, on=['id'], how='inner', indicator=True)\n",
    "print(list(phenotypes.preflabel_x))"
   ]
  },
  {
   "cell_type": "markdown",
   "metadata": {},
   "source": [
    "### Different edges"
   ]
  },
  {
   "cell_type": "raw",
   "metadata": {},
   "source": [
    "def get_differences(df1, df2, col1, col2):\n",
    "    #as we are only checking names we want to get rid of repetitions because of different relationships\n",
    "    df1 = df1.drop_duplicates(keep=False)\n",
    "    df2 = df2.drop_duplicates(keep=False)\n",
    "    \n",
    "    #return what is in \"both\" and what is in \"right only\"\n",
    "    merged_df = pd.merge(df1, df2, on=[col1, col2], how='right', indicator=True)\n",
    "    differences_df = merged_df[merged_df['_merge'] == 'right_only'].drop(columns=['_merge'])\n",
    "    \n",
    "    \n",
    "    print(\"Rows that are different between df1 and df2:\", len(differences_df))\n",
    "    print(\"\\nNumber of duplicates dropped:\", len(merged_df) - len(differences_df))\n",
    "    return differences_df"
   ]
  },
  {
   "cell_type": "raw",
   "metadata": {},
   "source": [
    "# HOW TO GET WHAT THEY HAVE DIFFRENT -fast\n",
    "# (tested with small list)\n",
    "\n",
    "# 1. compare the diseases in general\n",
    "# ad = edges_ad[['subject_id', 'object_id']]\n",
    "# hd = edges_hd[['subject_id', 'object_id']]\n",
    "df = get_differences(edges_ad, edges_hd, 'subject_id', 'object_id')\n",
    "# node_list = nodes_hd\n",
    "# #2. get only edges that relate at least 1 node in HD graph\n",
    "one_in = df[(df['subject_id'].isin(node_list) & ~df['object_id'].isin(node_list)) | (~df['subject_id'].isin(node_list) & df['object_id'].isin(node_list))]\n",
    "two_in = df[(df['subject_id'].isin(node_list) & df['object_id'].isin(node_list))]\n",
    "print(len(one_in), len(two_in), len(df) - len(one_in) + len(two_in))\n",
    "df_cleaned = two_in.dropna(axis=1, how='all')\n",
    "df_cleaned.info()\n",
    "# np.unique(df_cleaned.property_label_y.dropna())\n",
    "properties = df_cleaned.property_label_y.dropna()\n",
    "properties.value_counts()"
   ]
  },
  {
   "cell_type": "markdown",
   "metadata": {},
   "source": [
    "### Common Treatments"
   ]
  },
  {
   "cell_type": "code",
   "execution_count": 34,
   "metadata": {},
   "outputs": [],
   "source": [
    "# treats = 'treats or applied or studied to treat'\n",
    "drugs_ad = edges_ad[(edges_ad.property_id.str.contains('treats')) & (edges_ad.object_id.isin(list(alzh_ids.id)))]\n",
    "drugs = nodes_ad[nodes_ad.id.isin(list(drugs_ad.subject_id))]\n",
    "# drugs"
   ]
  },
  {
   "cell_type": "code",
   "execution_count": 35,
   "metadata": {},
   "outputs": [],
   "source": [
    "drugs_hd = edges_hd[(edges_hd.property_id.str.contains('treats'))& (edges_hd.object_id == 'MONDO:0007739')]\n",
    "drugs_hd = nodes_hd[nodes_hd.id.isin(list(drugs_hd.subject_id))]\n",
    "# drugs_hd"
   ]
  },
  {
   "cell_type": "code",
   "execution_count": 36,
   "metadata": {},
   "outputs": [],
   "source": [
    "skip = (set(list(drugs.id)).intersection(list(drugs_hd.id)))\n",
    "drugs_predict = pd.DataFrame()\n",
    "for drug in list(drugs.id):\n",
    "    if drug not in skip:\n",
    "        drugs_predict = drugs_predict.append({'subject_id': drug, 'object_id': 'MONDO:0007739'}, ignore_index=True)\n",
    "drugs_predict.to_csv('pairs_pred_drugs.csv', index=False)"
   ]
  },
  {
   "cell_type": "markdown",
   "metadata": {},
   "source": [
    "### Common genes -- none"
   ]
  },
  {
   "cell_type": "code",
   "execution_count": 25,
   "metadata": {},
   "outputs": [
    {
     "name": "stdout",
     "output_type": "stream",
     "text": [
      "78\n"
     ]
    },
    {
     "data": {
      "text/html": [
       "<div>\n",
       "<style scoped>\n",
       "    .dataframe tbody tr th:only-of-type {\n",
       "        vertical-align: middle;\n",
       "    }\n",
       "\n",
       "    .dataframe tbody tr th {\n",
       "        vertical-align: top;\n",
       "    }\n",
       "\n",
       "    .dataframe thead th {\n",
       "        text-align: right;\n",
       "    }\n",
       "</style>\n",
       "<table border=\"1\" class=\"dataframe\">\n",
       "  <thead>\n",
       "    <tr style=\"text-align: right;\">\n",
       "      <th></th>\n",
       "      <th>id</th>\n",
       "      <th>semantic_groups</th>\n",
       "      <th>preflabel</th>\n",
       "      <th>synonyms</th>\n",
       "      <th>name</th>\n",
       "      <th>description</th>\n",
       "    </tr>\n",
       "  </thead>\n",
       "  <tbody>\n",
       "    <tr>\n",
       "      <th>763</th>\n",
       "      <td>HP:0000006</td>\n",
       "      <td>DISO</td>\n",
       "      <td>Autosomal dominant inheritance</td>\n",
       "      <td>NaN</td>\n",
       "      <td>Autosomal dominant inheritance</td>\n",
       "      <td>NaN</td>\n",
       "    </tr>\n",
       "    <tr>\n",
       "      <th>4333</th>\n",
       "      <td>HGNC:11007</td>\n",
       "      <td>GENE</td>\n",
       "      <td>SLC2A3</td>\n",
       "      <td>GLUT3</td>\n",
       "      <td>solute carrier family 2 member 3</td>\n",
       "      <td>Enables dehydroascorbic acid transmembrane tra...</td>\n",
       "    </tr>\n",
       "    <tr>\n",
       "      <th>5621</th>\n",
       "      <td>HGNC:4851</td>\n",
       "      <td>GENE</td>\n",
       "      <td>HTT</td>\n",
       "      <td>5-HTT|5-HTTLPR|5HTT|HTT|OCD1|SERT|SERT1|hSERT</td>\n",
       "      <td>solute carrier family 6 member 4</td>\n",
       "      <td>This gene encodes an integral membrane protein...</td>\n",
       "    </tr>\n",
       "    <tr>\n",
       "      <th>9907</th>\n",
       "      <td>MONDO:0001627</td>\n",
       "      <td>DISO</td>\n",
       "      <td>dementia</td>\n",
       "      <td>NaN</td>\n",
       "      <td>dementia</td>\n",
       "      <td>NaN</td>\n",
       "    </tr>\n",
       "    <tr>\n",
       "      <th>12280</th>\n",
       "      <td>HP:0000657</td>\n",
       "      <td>DISO</td>\n",
       "      <td>Oculomotor apraxia</td>\n",
       "      <td>NaN</td>\n",
       "      <td>Oculomotor apraxia</td>\n",
       "      <td>NaN</td>\n",
       "    </tr>\n",
       "  </tbody>\n",
       "</table>\n",
       "</div>"
      ],
      "text/plain": [
       "                  id semantic_groups                       preflabel  \\\n",
       "763       HP:0000006            DISO  Autosomal dominant inheritance   \n",
       "4333      HGNC:11007            GENE                          SLC2A3   \n",
       "5621       HGNC:4851            GENE                             HTT   \n",
       "9907   MONDO:0001627            DISO                        dementia   \n",
       "12280     HP:0000657            DISO              Oculomotor apraxia   \n",
       "\n",
       "                                            synonyms  \\\n",
       "763                                              NaN   \n",
       "4333                                           GLUT3   \n",
       "5621   5-HTT|5-HTTLPR|5HTT|HTT|OCD1|SERT|SERT1|hSERT   \n",
       "9907                                             NaN   \n",
       "12280                                            NaN   \n",
       "\n",
       "                                   name  \\\n",
       "763      Autosomal dominant inheritance   \n",
       "4333   solute carrier family 2 member 3   \n",
       "5621   solute carrier family 6 member 4   \n",
       "9907                           dementia   \n",
       "12280                Oculomotor apraxia   \n",
       "\n",
       "                                             description  \n",
       "763                                                  NaN  \n",
       "4333   Enables dehydroascorbic acid transmembrane tra...  \n",
       "5621   This gene encodes an integral membrane protein...  \n",
       "9907                                                 NaN  \n",
       "12280                                                NaN  "
      ]
     },
     "execution_count": 25,
     "metadata": {},
     "output_type": "execute_result"
    }
   ],
   "source": [
    "hd_conn = edges_hd[(edges_hd.subject_id == 'MONDO:0007739')|(edges_hd.object_id == 'MONDO:0007739')]\n",
    "print(len(hd_conn))\n",
    "# get rid of things we have explored already\n",
    "hd_conn = hd_conn[(hd_conn.property_id != 'biolink:has_phenotype') & (hd_conn.property_id != 'biolink:treats_or_applied_or_studied_to_treat')]\n",
    "a = nodes_hd[(nodes_hd.id.isin(list(hd_conn.subject_id))) | (nodes_hd.id.isin(list(hd_conn.object_id)))]\n",
    "nodes_ad[nodes_ad.id.isin(list(a.id))]"
   ]
  },
  {
   "cell_type": "code",
   "execution_count": 31,
   "metadata": {},
   "outputs": [
    {
     "name": "stdout",
     "output_type": "stream",
     "text": [
      "171\n"
     ]
    },
    {
     "data": {
      "text/plain": [
       "{'HP:0000006', 'MONDO:0001627'}"
      ]
     },
     "execution_count": 31,
     "metadata": {},
     "output_type": "execute_result"
    }
   ],
   "source": [
    "ad_conn = edges_ad[(edges_ad['object_id'].isin(list(alzh_ids.id))) | (edges_ad['subject_id'].isin(list(alzh_ids.id)))]\n",
    "print(len(ad_conn))\n",
    "# get rid of things we have explored already\n",
    "ad_conn = ad_conn[(ad_conn.property_id != 'biolink:has_phenotype') & (ad_conn.property_id != 'biolink:treats_or_applied_or_studied_to_treat')]\n",
    "b = nodes_ad[(nodes_ad.id.isin(list(ad_conn.subject_id))) | (nodes_ad.id.isin(list(ad_conn.object_id)))]\n",
    "set(list(a.id)).intersection(list(b.id))"
   ]
  },
  {
   "cell_type": "code",
   "execution_count": 28,
   "metadata": {},
   "outputs": [
    {
     "data": {
      "text/html": [
       "<div>\n",
       "<style scoped>\n",
       "    .dataframe tbody tr th:only-of-type {\n",
       "        vertical-align: middle;\n",
       "    }\n",
       "\n",
       "    .dataframe tbody tr th {\n",
       "        vertical-align: top;\n",
       "    }\n",
       "\n",
       "    .dataframe thead th {\n",
       "        text-align: right;\n",
       "    }\n",
       "</style>\n",
       "<table border=\"1\" class=\"dataframe\">\n",
       "  <thead>\n",
       "    <tr style=\"text-align: right;\">\n",
       "      <th></th>\n",
       "      <th>subject_id</th>\n",
       "      <th>property_id</th>\n",
       "      <th>object_id</th>\n",
       "      <th>reference_uri</th>\n",
       "      <th>reference_supporting_text</th>\n",
       "      <th>reference_date</th>\n",
       "      <th>property_label</th>\n",
       "      <th>property_description</th>\n",
       "      <th>property_uri</th>\n",
       "    </tr>\n",
       "  </thead>\n",
       "  <tbody>\n",
       "    <tr>\n",
       "      <th>56558</th>\n",
       "      <td>HGNC:4851</td>\n",
       "      <td>biolink:expressed_in</td>\n",
       "      <td>UBERON:0003701</td>\n",
       "      <td>NaN</td>\n",
       "      <td>This edge comes from the Monarch Knowledge Gra...</td>\n",
       "      <td>NaN</td>\n",
       "      <td>expressed in</td>\n",
       "      <td>NaN</td>\n",
       "      <td>http://purl.obolibrary.org/obo/biolink_express...</td>\n",
       "    </tr>\n",
       "    <tr>\n",
       "      <th>59408</th>\n",
       "      <td>HGNC:4851</td>\n",
       "      <td>biolink:expressed_in</td>\n",
       "      <td>UBERON:0001150</td>\n",
       "      <td>NaN</td>\n",
       "      <td>This edge comes from the Monarch Knowledge Gra...</td>\n",
       "      <td>NaN</td>\n",
       "      <td>expressed in</td>\n",
       "      <td>NaN</td>\n",
       "      <td>http://purl.obolibrary.org/obo/biolink_express...</td>\n",
       "    </tr>\n",
       "    <tr>\n",
       "      <th>72972</th>\n",
       "      <td>HGNC:4851</td>\n",
       "      <td>biolink:expressed_in</td>\n",
       "      <td>CL:0002255</td>\n",
       "      <td>NaN</td>\n",
       "      <td>This edge comes from the Monarch Knowledge Gra...</td>\n",
       "      <td>NaN</td>\n",
       "      <td>expressed in</td>\n",
       "      <td>NaN</td>\n",
       "      <td>http://purl.obolibrary.org/obo/biolink_express...</td>\n",
       "    </tr>\n",
       "    <tr>\n",
       "      <th>80813</th>\n",
       "      <td>HGNC:4851</td>\n",
       "      <td>biolink:located_in</td>\n",
       "      <td>GO:0030425</td>\n",
       "      <td>NaN</td>\n",
       "      <td>This edge comes from the Monarch Knowledge Gra...</td>\n",
       "      <td>NaN</td>\n",
       "      <td>located in</td>\n",
       "      <td>NaN</td>\n",
       "      <td>http://purl.obolibrary.org/obo/biolink_located_in</td>\n",
       "    </tr>\n",
       "    <tr>\n",
       "      <th>492960</th>\n",
       "      <td>HGNC:4851</td>\n",
       "      <td>biolink:located_in</td>\n",
       "      <td>GO:0048471</td>\n",
       "      <td>NaN</td>\n",
       "      <td>This edge comes from the Monarch Knowledge Gra...</td>\n",
       "      <td>NaN</td>\n",
       "      <td>located in</td>\n",
       "      <td>NaN</td>\n",
       "      <td>http://purl.obolibrary.org/obo/biolink_located_in</td>\n",
       "    </tr>\n",
       "    <tr>\n",
       "      <th>662414</th>\n",
       "      <td>HGNC:4851</td>\n",
       "      <td>biolink:actively_involved_in</td>\n",
       "      <td>GO:0043065</td>\n",
       "      <td>NaN</td>\n",
       "      <td>This edge comes from the Monarch Knowledge Gra...</td>\n",
       "      <td>NaN</td>\n",
       "      <td>actively involved in</td>\n",
       "      <td>NaN</td>\n",
       "      <td>http://purl.obolibrary.org/obo/biolink_activel...</td>\n",
       "    </tr>\n",
       "    <tr>\n",
       "      <th>813399</th>\n",
       "      <td>HGNC:4851</td>\n",
       "      <td>biolink:located_in</td>\n",
       "      <td>GO:0005770</td>\n",
       "      <td>NaN</td>\n",
       "      <td>This edge comes from the Monarch Knowledge Gra...</td>\n",
       "      <td>NaN</td>\n",
       "      <td>located in</td>\n",
       "      <td>NaN</td>\n",
       "      <td>http://purl.obolibrary.org/obo/biolink_located_in</td>\n",
       "    </tr>\n",
       "    <tr>\n",
       "      <th>833321</th>\n",
       "      <td>HGNC:4851</td>\n",
       "      <td>biolink:located_in</td>\n",
       "      <td>GO:0005769</td>\n",
       "      <td>NaN</td>\n",
       "      <td>This edge comes from the Monarch Knowledge Gra...</td>\n",
       "      <td>NaN</td>\n",
       "      <td>located in</td>\n",
       "      <td>NaN</td>\n",
       "      <td>http://purl.obolibrary.org/obo/biolink_located_in</td>\n",
       "    </tr>\n",
       "    <tr>\n",
       "      <th>880780</th>\n",
       "      <td>HGNC:4851</td>\n",
       "      <td>biolink:enables</td>\n",
       "      <td>GO:0005515</td>\n",
       "      <td>NaN</td>\n",
       "      <td>This edge comes from the Monarch Knowledge Gra...</td>\n",
       "      <td>NaN</td>\n",
       "      <td>enables</td>\n",
       "      <td>NaN</td>\n",
       "      <td>http://purl.obolibrary.org/obo/biolink_enables</td>\n",
       "    </tr>\n",
       "    <tr>\n",
       "      <th>1050518</th>\n",
       "      <td>HGNC:4851</td>\n",
       "      <td>biolink:enables</td>\n",
       "      <td>GO:0034452</td>\n",
       "      <td>NaN</td>\n",
       "      <td>This edge comes from the Monarch Knowledge Gra...</td>\n",
       "      <td>NaN</td>\n",
       "      <td>enables</td>\n",
       "      <td>NaN</td>\n",
       "      <td>http://purl.obolibrary.org/obo/biolink_enables</td>\n",
       "    </tr>\n",
       "    <tr>\n",
       "      <th>1170301</th>\n",
       "      <td>HGNC:4851</td>\n",
       "      <td>biolink:expressed_in</td>\n",
       "      <td>UBERON:0001264</td>\n",
       "      <td>NaN</td>\n",
       "      <td>This edge comes from the Monarch Knowledge Gra...</td>\n",
       "      <td>NaN</td>\n",
       "      <td>expressed in</td>\n",
       "      <td>NaN</td>\n",
       "      <td>http://purl.obolibrary.org/obo/biolink_express...</td>\n",
       "    </tr>\n",
       "  </tbody>\n",
       "</table>\n",
       "</div>"
      ],
      "text/plain": [
       "        subject_id                   property_id       object_id  \\\n",
       "56558    HGNC:4851          biolink:expressed_in  UBERON:0003701   \n",
       "59408    HGNC:4851          biolink:expressed_in  UBERON:0001150   \n",
       "72972    HGNC:4851          biolink:expressed_in      CL:0002255   \n",
       "80813    HGNC:4851            biolink:located_in      GO:0030425   \n",
       "492960   HGNC:4851            biolink:located_in      GO:0048471   \n",
       "662414   HGNC:4851  biolink:actively_involved_in      GO:0043065   \n",
       "813399   HGNC:4851            biolink:located_in      GO:0005770   \n",
       "833321   HGNC:4851            biolink:located_in      GO:0005769   \n",
       "880780   HGNC:4851               biolink:enables      GO:0005515   \n",
       "1050518  HGNC:4851               biolink:enables      GO:0034452   \n",
       "1170301  HGNC:4851          biolink:expressed_in  UBERON:0001264   \n",
       "\n",
       "        reference_uri                          reference_supporting_text  \\\n",
       "56558             NaN  This edge comes from the Monarch Knowledge Gra...   \n",
       "59408             NaN  This edge comes from the Monarch Knowledge Gra...   \n",
       "72972             NaN  This edge comes from the Monarch Knowledge Gra...   \n",
       "80813             NaN  This edge comes from the Monarch Knowledge Gra...   \n",
       "492960            NaN  This edge comes from the Monarch Knowledge Gra...   \n",
       "662414            NaN  This edge comes from the Monarch Knowledge Gra...   \n",
       "813399            NaN  This edge comes from the Monarch Knowledge Gra...   \n",
       "833321            NaN  This edge comes from the Monarch Knowledge Gra...   \n",
       "880780            NaN  This edge comes from the Monarch Knowledge Gra...   \n",
       "1050518           NaN  This edge comes from the Monarch Knowledge Gra...   \n",
       "1170301           NaN  This edge comes from the Monarch Knowledge Gra...   \n",
       "\n",
       "        reference_date        property_label  property_description  \\\n",
       "56558              NaN          expressed in                   NaN   \n",
       "59408              NaN          expressed in                   NaN   \n",
       "72972              NaN          expressed in                   NaN   \n",
       "80813              NaN            located in                   NaN   \n",
       "492960             NaN            located in                   NaN   \n",
       "662414             NaN  actively involved in                   NaN   \n",
       "813399             NaN            located in                   NaN   \n",
       "833321             NaN            located in                   NaN   \n",
       "880780             NaN               enables                   NaN   \n",
       "1050518            NaN               enables                   NaN   \n",
       "1170301            NaN          expressed in                   NaN   \n",
       "\n",
       "                                              property_uri  \n",
       "56558    http://purl.obolibrary.org/obo/biolink_express...  \n",
       "59408    http://purl.obolibrary.org/obo/biolink_express...  \n",
       "72972    http://purl.obolibrary.org/obo/biolink_express...  \n",
       "80813    http://purl.obolibrary.org/obo/biolink_located_in  \n",
       "492960   http://purl.obolibrary.org/obo/biolink_located_in  \n",
       "662414   http://purl.obolibrary.org/obo/biolink_activel...  \n",
       "813399   http://purl.obolibrary.org/obo/biolink_located_in  \n",
       "833321   http://purl.obolibrary.org/obo/biolink_located_in  \n",
       "880780      http://purl.obolibrary.org/obo/biolink_enables  \n",
       "1050518     http://purl.obolibrary.org/obo/biolink_enables  \n",
       "1170301  http://purl.obolibrary.org/obo/biolink_express...  "
      ]
     },
     "execution_count": 28,
     "metadata": {},
     "output_type": "execute_result"
    }
   ],
   "source": [
    "htt_a = edges_ad[(edges_ad.subject_id=='HGNC:4851')|(edges_ad.object_id=='HGNC:4851')]\n",
    "htt_a[(htt_a.property_label != 'interacts with') & (htt_a.property_label != 'has phenotype')]"
   ]
  },
  {
   "cell_type": "code",
   "execution_count": 40,
   "metadata": {},
   "outputs": [
    {
     "data": {
      "text/html": [
       "<div>\n",
       "<style scoped>\n",
       "    .dataframe tbody tr th:only-of-type {\n",
       "        vertical-align: middle;\n",
       "    }\n",
       "\n",
       "    .dataframe tbody tr th {\n",
       "        vertical-align: top;\n",
       "    }\n",
       "\n",
       "    .dataframe thead th {\n",
       "        text-align: right;\n",
       "    }\n",
       "</style>\n",
       "<table border=\"1\" class=\"dataframe\">\n",
       "  <thead>\n",
       "    <tr style=\"text-align: right;\">\n",
       "      <th></th>\n",
       "      <th>subject_id</th>\n",
       "      <th>property_id</th>\n",
       "      <th>object_id</th>\n",
       "      <th>reference_uri</th>\n",
       "      <th>reference_supporting_text</th>\n",
       "      <th>reference_date</th>\n",
       "      <th>property_label</th>\n",
       "      <th>property_description</th>\n",
       "      <th>property_uri</th>\n",
       "    </tr>\n",
       "  </thead>\n",
       "  <tbody>\n",
       "    <tr>\n",
       "      <th>229079</th>\n",
       "      <td>CHEBI:50694</td>\n",
       "      <td>biolink:treats_or_applied_or_studied_to_treat</td>\n",
       "      <td>MONDO:0005395</td>\n",
       "      <td>https://www.ncbi.nlm.nih.gov/pubmed/21561882</td>\n",
       "      <td>This edge comes from the Monarch Knowledge Gra...</td>\n",
       "      <td>NaN</td>\n",
       "      <td>treats or applied or studied to treat</td>\n",
       "      <td>NaN</td>\n",
       "      <td>http://purl.obolibrary.org/obo/biolink_treats_...</td>\n",
       "    </tr>\n",
       "    <tr>\n",
       "      <th>717031</th>\n",
       "      <td>CHEBI:50694</td>\n",
       "      <td>biolink:treats_or_applied_or_studied_to_treat</td>\n",
       "      <td>MONDO:0007739</td>\n",
       "      <td>https://www.ncbi.nlm.nih.gov/pubmed/11711215,1...</td>\n",
       "      <td>This edge comes from the Monarch Knowledge Gra...</td>\n",
       "      <td>NaN</td>\n",
       "      <td>treats or applied or studied to treat</td>\n",
       "      <td>NaN</td>\n",
       "      <td>http://purl.obolibrary.org/obo/biolink_treats_...</td>\n",
       "    </tr>\n",
       "  </tbody>\n",
       "</table>\n",
       "</div>"
      ],
      "text/plain": [
       "         subject_id                                    property_id  \\\n",
       "229079  CHEBI:50694  biolink:treats_or_applied_or_studied_to_treat   \n",
       "717031  CHEBI:50694  biolink:treats_or_applied_or_studied_to_treat   \n",
       "\n",
       "            object_id                                      reference_uri  \\\n",
       "229079  MONDO:0005395       https://www.ncbi.nlm.nih.gov/pubmed/21561882   \n",
       "717031  MONDO:0007739  https://www.ncbi.nlm.nih.gov/pubmed/11711215,1...   \n",
       "\n",
       "                                reference_supporting_text reference_date  \\\n",
       "229079  This edge comes from the Monarch Knowledge Gra...            NaN   \n",
       "717031  This edge comes from the Monarch Knowledge Gra...            NaN   \n",
       "\n",
       "                               property_label  property_description  \\\n",
       "229079  treats or applied or studied to treat                   NaN   \n",
       "717031  treats or applied or studied to treat                   NaN   \n",
       "\n",
       "                                             property_uri  \n",
       "229079  http://purl.obolibrary.org/obo/biolink_treats_...  \n",
       "717031  http://purl.obolibrary.org/obo/biolink_treats_...  "
      ]
     },
     "execution_count": 40,
     "metadata": {},
     "output_type": "execute_result"
    }
   ],
   "source": [
    "edges_hd[edges_hd.subject_id == 'CHEBI:50694']"
   ]
  }
 ],
 "metadata": {
  "kernelspec": {
   "display_name": "Python 3",
   "language": "python",
   "name": "python3"
  },
  "language_info": {
   "codemirror_mode": {
    "name": "ipython",
    "version": 3
   },
   "file_extension": ".py",
   "mimetype": "text/x-python",
   "name": "python",
   "nbconvert_exporter": "python",
   "pygments_lexer": "ipython3",
   "version": "3.7.16"
  }
 },
 "nbformat": 4,
 "nbformat_minor": 4
}
